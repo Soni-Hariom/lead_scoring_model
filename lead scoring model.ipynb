{
 "cells": [
  {
   "cell_type": "markdown",
   "id": "0ec05df2",
   "metadata": {},
   "source": [
    "![](https://saaslist.com/uploads/lead-scoring-model-1.jpg)  \n"
   ]
  },
  {
   "cell_type": "markdown",
   "id": "1370aa96",
   "metadata": {},
   "source": [
    "## Bussiness Problem:\n",
    "Selling something is not an easy task. A business might have many potential customers, commonly referred as leads, but not enough resources to cater them all. Even most of the leads won’t turn into actual bookings. So there is a need for a system that prioritises the leads, and sorts them on the basis of a score, referred to here as lead score. So whenever a new lead is generated, this system analyses the features of the lead and gives it a score that correlates with chances of it being converted into booking. Such ranking of potential customers not only helps in saving time but also helps in increasing the conversion rate by letting the sales team figure out what leads to spend time on.\n",
    "\n",
    "## Task:\n",
    "Here you have a dataset of leads with their set of features and their status. You have to build a ML model that predicts the lead score as an OUTPUT on the basis of the INPUT set of features. This lead score will range from 0-100, so more the lead score means more chances of conversion of lead to WON.\n",
    "\n",
    "## Keep In Mind:\n",
    "1. The leads with STATUS other than ‘WON’ or ‘LOST’ can be dropped during training.\n",
    "2. Treat all columns as CATEGORICAL columns.\n",
    "3. This '9b2d5b4678781e53038e91ea5324530a03f27dc1d0e5f6c9bc9d493a23be9de0' represents NaN and could be present in more than one column.\n"
   ]
  },
  {
   "cell_type": "markdown",
   "id": "492f90c0",
   "metadata": {},
   "source": [
    "## Step 1: Importing The Libraries"
   ]
  },
  {
   "cell_type": "code",
   "execution_count": 1,
   "id": "52effbcb",
   "metadata": {},
   "outputs": [],
   "source": [
    "import numpy as np\n",
    "import pandas as pd\n",
    "import matplotlib.pyplot as plt\n",
    "import seaborn as sns"
   ]
  },
  {
   "cell_type": "markdown",
   "id": "dc3430b7",
   "metadata": {},
   "source": [
    "## Step 2: Loading The Dataset"
   ]
  },
  {
   "cell_type": "code",
   "execution_count": 2,
   "id": "85ba426a",
   "metadata": {},
   "outputs": [
    {
     "data": {
      "text/html": [
       "<div>\n",
       "<style scoped>\n",
       "    .dataframe tbody tr th:only-of-type {\n",
       "        vertical-align: middle;\n",
       "    }\n",
       "\n",
       "    .dataframe tbody tr th {\n",
       "        vertical-align: top;\n",
       "    }\n",
       "\n",
       "    .dataframe thead th {\n",
       "        text-align: right;\n",
       "    }\n",
       "</style>\n",
       "<table border=\"1\" class=\"dataframe\">\n",
       "  <thead>\n",
       "    <tr style=\"text-align: right;\">\n",
       "      <th></th>\n",
       "      <th>Agent_id</th>\n",
       "      <th>status</th>\n",
       "      <th>lost_reason</th>\n",
       "      <th>budget</th>\n",
       "      <th>lease</th>\n",
       "      <th>movein</th>\n",
       "      <th>source</th>\n",
       "      <th>source_city</th>\n",
       "      <th>source_country</th>\n",
       "      <th>utm_source</th>\n",
       "      <th>utm_medium</th>\n",
       "      <th>des_city</th>\n",
       "      <th>des_country</th>\n",
       "      <th>room_type</th>\n",
       "      <th>lead_id</th>\n",
       "    </tr>\n",
       "  </thead>\n",
       "  <tbody>\n",
       "    <tr>\n",
       "      <th>0</th>\n",
       "      <td>1deba9e96f404694373de9749ddd1ca8aa7bb823145a6f...</td>\n",
       "      <td>LOST</td>\n",
       "      <td>Not responding</td>\n",
       "      <td>NaN</td>\n",
       "      <td>NaN</td>\n",
       "      <td>NaN</td>\n",
       "      <td>9b2d5b4678781e53038e91ea5324530a03f27dc1d0e5f6...</td>\n",
       "      <td>9b2d5b4678781e53038e91ea5324530a03f27dc1d0e5f6...</td>\n",
       "      <td>9b2d5b4678781e53038e91ea5324530a03f27dc1d0e5f6...</td>\n",
       "      <td>3d59f7548e1af2151b64135003ce63c0a484c26b9b8b16...</td>\n",
       "      <td>268ad70eb5bc4737a2ae28162cbca30118cc94520e49ef...</td>\n",
       "      <td>ecc0e7dc084f141b29479058967d0bc07dee25d9690a98...</td>\n",
       "      <td>8d23a6e37e0a6431a8f1b43a91026dcff51170a89a6512...</td>\n",
       "      <td>NaN</td>\n",
       "      <td>cd5dc0d9393f3980d11d4ba6f88f8110c2b7a7f7796307...</td>\n",
       "    </tr>\n",
       "    <tr>\n",
       "      <th>1</th>\n",
       "      <td>299ae77a4ef350ae0dd37d6bba1c002d03444fb1edb236...</td>\n",
       "      <td>LOST</td>\n",
       "      <td>Low budget</td>\n",
       "      <td>NaN</td>\n",
       "      <td>NaN</td>\n",
       "      <td>NaN</td>\n",
       "      <td>9b2d5b4678781e53038e91ea5324530a03f27dc1d0e5f6...</td>\n",
       "      <td>9b2d5b4678781e53038e91ea5324530a03f27dc1d0e5f6...</td>\n",
       "      <td>9b2d5b4678781e53038e91ea5324530a03f27dc1d0e5f6...</td>\n",
       "      <td>3d59f7548e1af2151b64135003ce63c0a484c26b9b8b16...</td>\n",
       "      <td>268ad70eb5bc4737a2ae28162cbca30118cc94520e49ef...</td>\n",
       "      <td>5372372f3bf5896820cb2819300c3e681820d82c6efc54...</td>\n",
       "      <td>8d23a6e37e0a6431a8f1b43a91026dcff51170a89a6512...</td>\n",
       "      <td>NaN</td>\n",
       "      <td>b94693673a5f7178d1b114e4004ad52377d3244dd24a3d...</td>\n",
       "    </tr>\n",
       "    <tr>\n",
       "      <th>2</th>\n",
       "      <td>c213697430c006013012dd2aca82dd9732aa0a1a6bca13...</td>\n",
       "      <td>LOST</td>\n",
       "      <td>Not responding</td>\n",
       "      <td>£121 - £180 Per Week</td>\n",
       "      <td>Full Year Course Stay 40 - 44 weeks</td>\n",
       "      <td>31/08/22</td>\n",
       "      <td>7aae3e886e89fc1187a5c47d6cea1c22998ee610ade1f2...</td>\n",
       "      <td>9b8cc3c63cdf447e463c11544924bf027945cbd29675f7...</td>\n",
       "      <td>e09e10e67812e9d236ad900e5d46b4308fc62f5d69446a...</td>\n",
       "      <td>bbdefa2950f49882f295b1285d4fa9dec45fc4144bfb07...</td>\n",
       "      <td>09076eb7665d1fb9389c7c4517fee0b00e43092eb34821...</td>\n",
       "      <td>11ab03a1a8c367191355c152f39fe28cae5e426fce49ef...</td>\n",
       "      <td>8d23a6e37e0a6431a8f1b43a91026dcff51170a89a6512...</td>\n",
       "      <td>Ensuite</td>\n",
       "      <td>96ea4e2bf04496c044745938c0299c264c3f4ba079e572...</td>\n",
       "    </tr>\n",
       "    <tr>\n",
       "      <th>3</th>\n",
       "      <td>eac9815a500f908736d303e23aa227f0957177b0e6756b...</td>\n",
       "      <td>LOST</td>\n",
       "      <td>Low budget</td>\n",
       "      <td>0-0</td>\n",
       "      <td>0</td>\n",
       "      <td>NaN</td>\n",
       "      <td>ba2d0a29556ac20f86f45e4543c0825428cba33fd7a9ea...</td>\n",
       "      <td>a5f0d2d08eb0592087e3a3a2f9c1ba2c67cc30f2efd2bd...</td>\n",
       "      <td>e09e10e67812e9d236ad900e5d46b4308fc62f5d69446a...</td>\n",
       "      <td>bbdefa2950f49882f295b1285d4fa9dec45fc4144bfb07...</td>\n",
       "      <td>09076eb7665d1fb9389c7c4517fee0b00e43092eb34821...</td>\n",
       "      <td>19372fa44c57a01c37a5a8418779ca3d99b0b59731fb35...</td>\n",
       "      <td>8d23a6e37e0a6431a8f1b43a91026dcff51170a89a6512...</td>\n",
       "      <td>NaN</td>\n",
       "      <td>1d2b34d8add02a182a4129023766ca4585a8ddced0e5b3...</td>\n",
       "    </tr>\n",
       "    <tr>\n",
       "      <th>4</th>\n",
       "      <td>1deba9e96f404694373de9749ddd1ca8aa7bb823145a6f...</td>\n",
       "      <td>LOST</td>\n",
       "      <td>Junk lead</td>\n",
       "      <td>NaN</td>\n",
       "      <td>NaN</td>\n",
       "      <td>NaN</td>\n",
       "      <td>9b2d5b4678781e53038e91ea5324530a03f27dc1d0e5f6...</td>\n",
       "      <td>9b2d5b4678781e53038e91ea5324530a03f27dc1d0e5f6...</td>\n",
       "      <td>9b2d5b4678781e53038e91ea5324530a03f27dc1d0e5f6...</td>\n",
       "      <td>3d59f7548e1af2151b64135003ce63c0a484c26b9b8b16...</td>\n",
       "      <td>268ad70eb5bc4737a2ae28162cbca30118cc94520e49ef...</td>\n",
       "      <td>9b2d5b4678781e53038e91ea5324530a03f27dc1d0e5f6...</td>\n",
       "      <td>9b2d5b4678781e53038e91ea5324530a03f27dc1d0e5f6...</td>\n",
       "      <td>NaN</td>\n",
       "      <td>fc10fffd29cfbe93c55158fb47752a7501c211d253468c...</td>\n",
       "    </tr>\n",
       "    <tr>\n",
       "      <th>...</th>\n",
       "      <td>...</td>\n",
       "      <td>...</td>\n",
       "      <td>...</td>\n",
       "      <td>...</td>\n",
       "      <td>...</td>\n",
       "      <td>...</td>\n",
       "      <td>...</td>\n",
       "      <td>...</td>\n",
       "      <td>...</td>\n",
       "      <td>...</td>\n",
       "      <td>...</td>\n",
       "      <td>...</td>\n",
       "      <td>...</td>\n",
       "      <td>...</td>\n",
       "      <td>...</td>\n",
       "    </tr>\n",
       "    <tr>\n",
       "      <th>46603</th>\n",
       "      <td>2306878a9ad9b57686cd623dd285aaa9b25afdf627f651...</td>\n",
       "      <td>LOST</td>\n",
       "      <td>Low availability</td>\n",
       "      <td>£60 - £120 Per week</td>\n",
       "      <td>Complete Education Year Stay 50 - 52 weeks</td>\n",
       "      <td>01/09/22</td>\n",
       "      <td>9b2d5b4678781e53038e91ea5324530a03f27dc1d0e5f6...</td>\n",
       "      <td>7d1550b844ff586a6023216c06263105eed0a849a2a1f6...</td>\n",
       "      <td>8da82000ef9c4468ba47362a924b895e40662fed846942...</td>\n",
       "      <td>bbdefa2950f49882f295b1285d4fa9dec45fc4144bfb07...</td>\n",
       "      <td>09076eb7665d1fb9389c7c4517fee0b00e43092eb34821...</td>\n",
       "      <td>13d4b96b6ee361b737e22404aeecca45f322ba7d4c2c42...</td>\n",
       "      <td>8d23a6e37e0a6431a8f1b43a91026dcff51170a89a6512...</td>\n",
       "      <td>Studio</td>\n",
       "      <td>1aaa4a4a9092e4c0eabf958ed9aea59c50d8ea3f08f691...</td>\n",
       "    </tr>\n",
       "    <tr>\n",
       "      <th>46604</th>\n",
       "      <td>327ec29056cc47c24bf922f7dc0f78261dad5c726d7353...</td>\n",
       "      <td>LOST</td>\n",
       "      <td>Semester stay</td>\n",
       "      <td>£60 - £120 Per week</td>\n",
       "      <td>Summer/Short Stay 8 - 12 weeks</td>\n",
       "      <td>29/09/22</td>\n",
       "      <td>9b2d5b4678781e53038e91ea5324530a03f27dc1d0e5f6...</td>\n",
       "      <td>9f2ba6981e36ea0fca6c16f42e6413d788d2a7499b8b7f...</td>\n",
       "      <td>8da82000ef9c4468ba47362a924b895e40662fed846942...</td>\n",
       "      <td>bbdefa2950f49882f295b1285d4fa9dec45fc4144bfb07...</td>\n",
       "      <td>09076eb7665d1fb9389c7c4517fee0b00e43092eb34821...</td>\n",
       "      <td>998c18dc0e513ab0035c7b858e3780bbbead88695a15de...</td>\n",
       "      <td>8d23a6e37e0a6431a8f1b43a91026dcff51170a89a6512...</td>\n",
       "      <td>Studio</td>\n",
       "      <td>1f90dbad4873cb9673ff3c7ec69fbac4289181453c6cea...</td>\n",
       "    </tr>\n",
       "    <tr>\n",
       "      <th>46605</th>\n",
       "      <td>1134c0a7d44fdae1afd7f1f64e2789496784095ca0a050...</td>\n",
       "      <td>LOST</td>\n",
       "      <td>Low availability</td>\n",
       "      <td>£241 - £300 Per week</td>\n",
       "      <td>Full Year Course Stay 40 - 44 weeks</td>\n",
       "      <td>20/09/22</td>\n",
       "      <td>7aae3e886e89fc1187a5c47d6cea1c22998ee610ade1f2...</td>\n",
       "      <td>7d1550b844ff586a6023216c06263105eed0a849a2a1f6...</td>\n",
       "      <td>8da82000ef9c4468ba47362a924b895e40662fed846942...</td>\n",
       "      <td>bbdefa2950f49882f295b1285d4fa9dec45fc4144bfb07...</td>\n",
       "      <td>09076eb7665d1fb9389c7c4517fee0b00e43092eb34821...</td>\n",
       "      <td>ecc0e7dc084f141b29479058967d0bc07dee25d9690a98...</td>\n",
       "      <td>8d23a6e37e0a6431a8f1b43a91026dcff51170a89a6512...</td>\n",
       "      <td>Studio</td>\n",
       "      <td>d9e0f455b68a6573544ffac32292541a510fe2daffe2bb...</td>\n",
       "    </tr>\n",
       "    <tr>\n",
       "      <th>46606</th>\n",
       "      <td>8b8b029f1142f5cbc825aa6cbee01406c915c6b055db79...</td>\n",
       "      <td>LOST</td>\n",
       "      <td>Low availability</td>\n",
       "      <td>1108</td>\n",
       "      <td>294</td>\n",
       "      <td>30/08/22</td>\n",
       "      <td>d684761c17c11590f6e2525b48141cb2c0c6f2be5df4e2...</td>\n",
       "      <td>e9c722cbefc2f055ae60b4e2cbe73a2d99537eab0c37f3...</td>\n",
       "      <td>b936ee09e20b3b2234907cde349cda1c1a5327c4a486bf...</td>\n",
       "      <td>7f3fa48ca885678134842fa7456f3ece53a97f843b6101...</td>\n",
       "      <td>abb8e2badd5b6265c3237170cc599257a4f566706715d2...</td>\n",
       "      <td>ecc0e7dc084f141b29479058967d0bc07dee25d9690a98...</td>\n",
       "      <td>8d23a6e37e0a6431a8f1b43a91026dcff51170a89a6512...</td>\n",
       "      <td>NaN</td>\n",
       "      <td>1f90dbad4873cb9673ff3c7ec69fbac4289181453c6cea...</td>\n",
       "    </tr>\n",
       "    <tr>\n",
       "      <th>46607</th>\n",
       "      <td>1ea65ea38f2f574b3875ba895e4ff76b284b7725041612...</td>\n",
       "      <td>LOST</td>\n",
       "      <td>Low availability</td>\n",
       "      <td>£181 - £240 Per Week</td>\n",
       "      <td>Full Year Course Stay 40 - 44 weeks</td>\n",
       "      <td>01/09/22</td>\n",
       "      <td>7aae3e886e89fc1187a5c47d6cea1c22998ee610ade1f2...</td>\n",
       "      <td>1496126b7015defbc3b1d129a46096a5c135075aff2add...</td>\n",
       "      <td>e09e10e67812e9d236ad900e5d46b4308fc62f5d69446a...</td>\n",
       "      <td>bbdefa2950f49882f295b1285d4fa9dec45fc4144bfb07...</td>\n",
       "      <td>09076eb7665d1fb9389c7c4517fee0b00e43092eb34821...</td>\n",
       "      <td>618738f7143c9b43a98a6b42d743a6595069a9b4dcf42d...</td>\n",
       "      <td>8d23a6e37e0a6431a8f1b43a91026dcff51170a89a6512...</td>\n",
       "      <td>Studio</td>\n",
       "      <td>7520a8abba2b44d7f37c0ddbe5f7f3d87540b2b7a670e9...</td>\n",
       "    </tr>\n",
       "  </tbody>\n",
       "</table>\n",
       "<p>46608 rows × 15 columns</p>\n",
       "</div>"
      ],
      "text/plain": [
       "                                                Agent_id status  \\\n",
       "0      1deba9e96f404694373de9749ddd1ca8aa7bb823145a6f...   LOST   \n",
       "1      299ae77a4ef350ae0dd37d6bba1c002d03444fb1edb236...   LOST   \n",
       "2      c213697430c006013012dd2aca82dd9732aa0a1a6bca13...   LOST   \n",
       "3      eac9815a500f908736d303e23aa227f0957177b0e6756b...   LOST   \n",
       "4      1deba9e96f404694373de9749ddd1ca8aa7bb823145a6f...   LOST   \n",
       "...                                                  ...    ...   \n",
       "46603  2306878a9ad9b57686cd623dd285aaa9b25afdf627f651...   LOST   \n",
       "46604  327ec29056cc47c24bf922f7dc0f78261dad5c726d7353...   LOST   \n",
       "46605  1134c0a7d44fdae1afd7f1f64e2789496784095ca0a050...   LOST   \n",
       "46606  8b8b029f1142f5cbc825aa6cbee01406c915c6b055db79...   LOST   \n",
       "46607  1ea65ea38f2f574b3875ba895e4ff76b284b7725041612...   LOST   \n",
       "\n",
       "            lost_reason                budget  \\\n",
       "0        Not responding                   NaN   \n",
       "1            Low budget                   NaN   \n",
       "2        Not responding  £121 - £180 Per Week   \n",
       "3            Low budget                   0-0   \n",
       "4             Junk lead                   NaN   \n",
       "...                 ...                   ...   \n",
       "46603  Low availability   £60 - £120 Per week   \n",
       "46604     Semester stay   £60 - £120 Per week   \n",
       "46605  Low availability  £241 - £300 Per week   \n",
       "46606  Low availability                  1108   \n",
       "46607  Low availability  £181 - £240 Per Week   \n",
       "\n",
       "                                            lease    movein  \\\n",
       "0                                             NaN       NaN   \n",
       "1                                             NaN       NaN   \n",
       "2             Full Year Course Stay 40 - 44 weeks  31/08/22   \n",
       "3                                               0       NaN   \n",
       "4                                             NaN       NaN   \n",
       "...                                           ...       ...   \n",
       "46603  Complete Education Year Stay 50 - 52 weeks  01/09/22   \n",
       "46604              Summer/Short Stay 8 - 12 weeks  29/09/22   \n",
       "46605         Full Year Course Stay 40 - 44 weeks  20/09/22   \n",
       "46606                                         294  30/08/22   \n",
       "46607         Full Year Course Stay 40 - 44 weeks  01/09/22   \n",
       "\n",
       "                                                  source  \\\n",
       "0      9b2d5b4678781e53038e91ea5324530a03f27dc1d0e5f6...   \n",
       "1      9b2d5b4678781e53038e91ea5324530a03f27dc1d0e5f6...   \n",
       "2      7aae3e886e89fc1187a5c47d6cea1c22998ee610ade1f2...   \n",
       "3      ba2d0a29556ac20f86f45e4543c0825428cba33fd7a9ea...   \n",
       "4      9b2d5b4678781e53038e91ea5324530a03f27dc1d0e5f6...   \n",
       "...                                                  ...   \n",
       "46603  9b2d5b4678781e53038e91ea5324530a03f27dc1d0e5f6...   \n",
       "46604  9b2d5b4678781e53038e91ea5324530a03f27dc1d0e5f6...   \n",
       "46605  7aae3e886e89fc1187a5c47d6cea1c22998ee610ade1f2...   \n",
       "46606  d684761c17c11590f6e2525b48141cb2c0c6f2be5df4e2...   \n",
       "46607  7aae3e886e89fc1187a5c47d6cea1c22998ee610ade1f2...   \n",
       "\n",
       "                                             source_city  \\\n",
       "0      9b2d5b4678781e53038e91ea5324530a03f27dc1d0e5f6...   \n",
       "1      9b2d5b4678781e53038e91ea5324530a03f27dc1d0e5f6...   \n",
       "2      9b8cc3c63cdf447e463c11544924bf027945cbd29675f7...   \n",
       "3      a5f0d2d08eb0592087e3a3a2f9c1ba2c67cc30f2efd2bd...   \n",
       "4      9b2d5b4678781e53038e91ea5324530a03f27dc1d0e5f6...   \n",
       "...                                                  ...   \n",
       "46603  7d1550b844ff586a6023216c06263105eed0a849a2a1f6...   \n",
       "46604  9f2ba6981e36ea0fca6c16f42e6413d788d2a7499b8b7f...   \n",
       "46605  7d1550b844ff586a6023216c06263105eed0a849a2a1f6...   \n",
       "46606  e9c722cbefc2f055ae60b4e2cbe73a2d99537eab0c37f3...   \n",
       "46607  1496126b7015defbc3b1d129a46096a5c135075aff2add...   \n",
       "\n",
       "                                          source_country  \\\n",
       "0      9b2d5b4678781e53038e91ea5324530a03f27dc1d0e5f6...   \n",
       "1      9b2d5b4678781e53038e91ea5324530a03f27dc1d0e5f6...   \n",
       "2      e09e10e67812e9d236ad900e5d46b4308fc62f5d69446a...   \n",
       "3      e09e10e67812e9d236ad900e5d46b4308fc62f5d69446a...   \n",
       "4      9b2d5b4678781e53038e91ea5324530a03f27dc1d0e5f6...   \n",
       "...                                                  ...   \n",
       "46603  8da82000ef9c4468ba47362a924b895e40662fed846942...   \n",
       "46604  8da82000ef9c4468ba47362a924b895e40662fed846942...   \n",
       "46605  8da82000ef9c4468ba47362a924b895e40662fed846942...   \n",
       "46606  b936ee09e20b3b2234907cde349cda1c1a5327c4a486bf...   \n",
       "46607  e09e10e67812e9d236ad900e5d46b4308fc62f5d69446a...   \n",
       "\n",
       "                                              utm_source  \\\n",
       "0      3d59f7548e1af2151b64135003ce63c0a484c26b9b8b16...   \n",
       "1      3d59f7548e1af2151b64135003ce63c0a484c26b9b8b16...   \n",
       "2      bbdefa2950f49882f295b1285d4fa9dec45fc4144bfb07...   \n",
       "3      bbdefa2950f49882f295b1285d4fa9dec45fc4144bfb07...   \n",
       "4      3d59f7548e1af2151b64135003ce63c0a484c26b9b8b16...   \n",
       "...                                                  ...   \n",
       "46603  bbdefa2950f49882f295b1285d4fa9dec45fc4144bfb07...   \n",
       "46604  bbdefa2950f49882f295b1285d4fa9dec45fc4144bfb07...   \n",
       "46605  bbdefa2950f49882f295b1285d4fa9dec45fc4144bfb07...   \n",
       "46606  7f3fa48ca885678134842fa7456f3ece53a97f843b6101...   \n",
       "46607  bbdefa2950f49882f295b1285d4fa9dec45fc4144bfb07...   \n",
       "\n",
       "                                              utm_medium  \\\n",
       "0      268ad70eb5bc4737a2ae28162cbca30118cc94520e49ef...   \n",
       "1      268ad70eb5bc4737a2ae28162cbca30118cc94520e49ef...   \n",
       "2      09076eb7665d1fb9389c7c4517fee0b00e43092eb34821...   \n",
       "3      09076eb7665d1fb9389c7c4517fee0b00e43092eb34821...   \n",
       "4      268ad70eb5bc4737a2ae28162cbca30118cc94520e49ef...   \n",
       "...                                                  ...   \n",
       "46603  09076eb7665d1fb9389c7c4517fee0b00e43092eb34821...   \n",
       "46604  09076eb7665d1fb9389c7c4517fee0b00e43092eb34821...   \n",
       "46605  09076eb7665d1fb9389c7c4517fee0b00e43092eb34821...   \n",
       "46606  abb8e2badd5b6265c3237170cc599257a4f566706715d2...   \n",
       "46607  09076eb7665d1fb9389c7c4517fee0b00e43092eb34821...   \n",
       "\n",
       "                                                des_city  \\\n",
       "0      ecc0e7dc084f141b29479058967d0bc07dee25d9690a98...   \n",
       "1      5372372f3bf5896820cb2819300c3e681820d82c6efc54...   \n",
       "2      11ab03a1a8c367191355c152f39fe28cae5e426fce49ef...   \n",
       "3      19372fa44c57a01c37a5a8418779ca3d99b0b59731fb35...   \n",
       "4      9b2d5b4678781e53038e91ea5324530a03f27dc1d0e5f6...   \n",
       "...                                                  ...   \n",
       "46603  13d4b96b6ee361b737e22404aeecca45f322ba7d4c2c42...   \n",
       "46604  998c18dc0e513ab0035c7b858e3780bbbead88695a15de...   \n",
       "46605  ecc0e7dc084f141b29479058967d0bc07dee25d9690a98...   \n",
       "46606  ecc0e7dc084f141b29479058967d0bc07dee25d9690a98...   \n",
       "46607  618738f7143c9b43a98a6b42d743a6595069a9b4dcf42d...   \n",
       "\n",
       "                                             des_country room_type  \\\n",
       "0      8d23a6e37e0a6431a8f1b43a91026dcff51170a89a6512...       NaN   \n",
       "1      8d23a6e37e0a6431a8f1b43a91026dcff51170a89a6512...       NaN   \n",
       "2      8d23a6e37e0a6431a8f1b43a91026dcff51170a89a6512...   Ensuite   \n",
       "3      8d23a6e37e0a6431a8f1b43a91026dcff51170a89a6512...       NaN   \n",
       "4      9b2d5b4678781e53038e91ea5324530a03f27dc1d0e5f6...       NaN   \n",
       "...                                                  ...       ...   \n",
       "46603  8d23a6e37e0a6431a8f1b43a91026dcff51170a89a6512...    Studio   \n",
       "46604  8d23a6e37e0a6431a8f1b43a91026dcff51170a89a6512...    Studio   \n",
       "46605  8d23a6e37e0a6431a8f1b43a91026dcff51170a89a6512...    Studio   \n",
       "46606  8d23a6e37e0a6431a8f1b43a91026dcff51170a89a6512...       NaN   \n",
       "46607  8d23a6e37e0a6431a8f1b43a91026dcff51170a89a6512...    Studio   \n",
       "\n",
       "                                                 lead_id  \n",
       "0      cd5dc0d9393f3980d11d4ba6f88f8110c2b7a7f7796307...  \n",
       "1      b94693673a5f7178d1b114e4004ad52377d3244dd24a3d...  \n",
       "2      96ea4e2bf04496c044745938c0299c264c3f4ba079e572...  \n",
       "3      1d2b34d8add02a182a4129023766ca4585a8ddced0e5b3...  \n",
       "4      fc10fffd29cfbe93c55158fb47752a7501c211d253468c...  \n",
       "...                                                  ...  \n",
       "46603  1aaa4a4a9092e4c0eabf958ed9aea59c50d8ea3f08f691...  \n",
       "46604  1f90dbad4873cb9673ff3c7ec69fbac4289181453c6cea...  \n",
       "46605  d9e0f455b68a6573544ffac32292541a510fe2daffe2bb...  \n",
       "46606  1f90dbad4873cb9673ff3c7ec69fbac4289181453c6cea...  \n",
       "46607  7520a8abba2b44d7f37c0ddbe5f7f3d87540b2b7a670e9...  \n",
       "\n",
       "[46608 rows x 15 columns]"
      ]
     },
     "execution_count": 2,
     "metadata": {},
     "output_type": "execute_result"
    }
   ],
   "source": [
    "df1=pd.read_csv('dataset/Data_Science_Internship.csv', index_col=0)\n",
    "df1"
   ]
  },
  {
   "cell_type": "markdown",
   "id": "bdc63acb",
   "metadata": {},
   "source": [
    "## Step 3: Exploring The Dataset"
   ]
  },
  {
   "cell_type": "code",
   "execution_count": 3,
   "id": "83f63468",
   "metadata": {},
   "outputs": [
    {
     "data": {
      "text/plain": [
       "(46608, 15)"
      ]
     },
     "execution_count": 3,
     "metadata": {},
     "output_type": "execute_result"
    }
   ],
   "source": [
    "df1.shape"
   ]
  },
  {
   "cell_type": "code",
   "execution_count": 4,
   "id": "79e96f35",
   "metadata": {},
   "outputs": [
    {
     "data": {
      "text/plain": [
       "Agent_id          46608\n",
       "status            46608\n",
       "lost_reason       43244\n",
       "budget            42908\n",
       "lease             44267\n",
       "movein            32970\n",
       "source            46608\n",
       "source_city       46608\n",
       "source_country    46608\n",
       "utm_source        46608\n",
       "utm_medium        46608\n",
       "des_city          46608\n",
       "des_country       46608\n",
       "room_type         23061\n",
       "lead_id           46608\n",
       "dtype: int64"
      ]
     },
     "execution_count": 4,
     "metadata": {},
     "output_type": "execute_result"
    }
   ],
   "source": [
    "df1.count()"
   ]
  },
  {
   "cell_type": "code",
   "execution_count": 5,
   "id": "ee37f3ea",
   "metadata": {},
   "outputs": [
    {
     "data": {
      "text/plain": [
       "Index(['Agent_id', 'status', 'lost_reason', 'budget', 'lease', 'movein',\n",
       "       'source', 'source_city', 'source_country', 'utm_source', 'utm_medium',\n",
       "       'des_city', 'des_country', 'room_type', 'lead_id'],\n",
       "      dtype='object')"
      ]
     },
     "execution_count": 5,
     "metadata": {},
     "output_type": "execute_result"
    }
   ],
   "source": [
    "df1.columns"
   ]
  },
  {
   "cell_type": "code",
   "execution_count": 6,
   "id": "f4710ef5",
   "metadata": {},
   "outputs": [
    {
     "data": {
      "text/plain": [
       "Agent_id              0\n",
       "status                0\n",
       "lost_reason        3364\n",
       "budget             3700\n",
       "lease              2341\n",
       "movein            13638\n",
       "source                0\n",
       "source_city           0\n",
       "source_country        0\n",
       "utm_source            0\n",
       "utm_medium            0\n",
       "des_city              0\n",
       "des_country           0\n",
       "room_type         23547\n",
       "lead_id               0\n",
       "dtype: int64"
      ]
     },
     "execution_count": 6,
     "metadata": {},
     "output_type": "execute_result"
    }
   ],
   "source": [
    "df1.isnull().sum()"
   ]
  },
  {
   "cell_type": "markdown",
   "id": "3c128d57",
   "metadata": {},
   "source": [
    "### Note:\n",
    "* We can see the dataset with 46608 rows and 15 columns.\n",
    "* Now I'm going to select the required columns to proceed further.\n"
   ]
  },
  {
   "cell_type": "markdown",
   "id": "18ef600c",
   "metadata": {},
   "source": [
    "## Step 4: Filtering The Dataset"
   ]
  },
  {
   "cell_type": "code",
   "execution_count": 7,
   "id": "10cc5d46",
   "metadata": {},
   "outputs": [
    {
     "data": {
      "text/html": [
       "<div>\n",
       "<style scoped>\n",
       "    .dataframe tbody tr th:only-of-type {\n",
       "        vertical-align: middle;\n",
       "    }\n",
       "\n",
       "    .dataframe tbody tr th {\n",
       "        vertical-align: top;\n",
       "    }\n",
       "\n",
       "    .dataframe thead th {\n",
       "        text-align: right;\n",
       "    }\n",
       "</style>\n",
       "<table border=\"1\" class=\"dataframe\">\n",
       "  <thead>\n",
       "    <tr style=\"text-align: right;\">\n",
       "      <th></th>\n",
       "      <th>status</th>\n",
       "      <th>lost_reason</th>\n",
       "      <th>budget</th>\n",
       "      <th>lease</th>\n",
       "      <th>room_type</th>\n",
       "    </tr>\n",
       "  </thead>\n",
       "  <tbody>\n",
       "    <tr>\n",
       "      <th>0</th>\n",
       "      <td>LOST</td>\n",
       "      <td>Not responding</td>\n",
       "      <td>NaN</td>\n",
       "      <td>NaN</td>\n",
       "      <td>NaN</td>\n",
       "    </tr>\n",
       "    <tr>\n",
       "      <th>1</th>\n",
       "      <td>LOST</td>\n",
       "      <td>Low budget</td>\n",
       "      <td>NaN</td>\n",
       "      <td>NaN</td>\n",
       "      <td>NaN</td>\n",
       "    </tr>\n",
       "    <tr>\n",
       "      <th>2</th>\n",
       "      <td>LOST</td>\n",
       "      <td>Not responding</td>\n",
       "      <td>£121 - £180 Per Week</td>\n",
       "      <td>Full Year Course Stay 40 - 44 weeks</td>\n",
       "      <td>Ensuite</td>\n",
       "    </tr>\n",
       "    <tr>\n",
       "      <th>3</th>\n",
       "      <td>LOST</td>\n",
       "      <td>Low budget</td>\n",
       "      <td>0-0</td>\n",
       "      <td>0</td>\n",
       "      <td>NaN</td>\n",
       "    </tr>\n",
       "    <tr>\n",
       "      <th>4</th>\n",
       "      <td>LOST</td>\n",
       "      <td>Junk lead</td>\n",
       "      <td>NaN</td>\n",
       "      <td>NaN</td>\n",
       "      <td>NaN</td>\n",
       "    </tr>\n",
       "    <tr>\n",
       "      <th>...</th>\n",
       "      <td>...</td>\n",
       "      <td>...</td>\n",
       "      <td>...</td>\n",
       "      <td>...</td>\n",
       "      <td>...</td>\n",
       "    </tr>\n",
       "    <tr>\n",
       "      <th>46603</th>\n",
       "      <td>LOST</td>\n",
       "      <td>Low availability</td>\n",
       "      <td>£60 - £120 Per week</td>\n",
       "      <td>Complete Education Year Stay 50 - 52 weeks</td>\n",
       "      <td>Studio</td>\n",
       "    </tr>\n",
       "    <tr>\n",
       "      <th>46604</th>\n",
       "      <td>LOST</td>\n",
       "      <td>Semester stay</td>\n",
       "      <td>£60 - £120 Per week</td>\n",
       "      <td>Summer/Short Stay 8 - 12 weeks</td>\n",
       "      <td>Studio</td>\n",
       "    </tr>\n",
       "    <tr>\n",
       "      <th>46605</th>\n",
       "      <td>LOST</td>\n",
       "      <td>Low availability</td>\n",
       "      <td>£241 - £300 Per week</td>\n",
       "      <td>Full Year Course Stay 40 - 44 weeks</td>\n",
       "      <td>Studio</td>\n",
       "    </tr>\n",
       "    <tr>\n",
       "      <th>46606</th>\n",
       "      <td>LOST</td>\n",
       "      <td>Low availability</td>\n",
       "      <td>1108</td>\n",
       "      <td>294</td>\n",
       "      <td>NaN</td>\n",
       "    </tr>\n",
       "    <tr>\n",
       "      <th>46607</th>\n",
       "      <td>LOST</td>\n",
       "      <td>Low availability</td>\n",
       "      <td>£181 - £240 Per Week</td>\n",
       "      <td>Full Year Course Stay 40 - 44 weeks</td>\n",
       "      <td>Studio</td>\n",
       "    </tr>\n",
       "  </tbody>\n",
       "</table>\n",
       "<p>46608 rows × 5 columns</p>\n",
       "</div>"
      ],
      "text/plain": [
       "      status       lost_reason                budget  \\\n",
       "0       LOST    Not responding                   NaN   \n",
       "1       LOST        Low budget                   NaN   \n",
       "2       LOST    Not responding  £121 - £180 Per Week   \n",
       "3       LOST        Low budget                   0-0   \n",
       "4       LOST         Junk lead                   NaN   \n",
       "...      ...               ...                   ...   \n",
       "46603   LOST  Low availability   £60 - £120 Per week   \n",
       "46604   LOST     Semester stay   £60 - £120 Per week   \n",
       "46605   LOST  Low availability  £241 - £300 Per week   \n",
       "46606   LOST  Low availability                  1108   \n",
       "46607   LOST  Low availability  £181 - £240 Per Week   \n",
       "\n",
       "                                            lease room_type  \n",
       "0                                             NaN       NaN  \n",
       "1                                             NaN       NaN  \n",
       "2             Full Year Course Stay 40 - 44 weeks   Ensuite  \n",
       "3                                               0       NaN  \n",
       "4                                             NaN       NaN  \n",
       "...                                           ...       ...  \n",
       "46603  Complete Education Year Stay 50 - 52 weeks    Studio  \n",
       "46604              Summer/Short Stay 8 - 12 weeks    Studio  \n",
       "46605         Full Year Course Stay 40 - 44 weeks    Studio  \n",
       "46606                                         294       NaN  \n",
       "46607         Full Year Course Stay 40 - 44 weeks    Studio  \n",
       "\n",
       "[46608 rows x 5 columns]"
      ]
     },
     "execution_count": 7,
     "metadata": {},
     "output_type": "execute_result"
    }
   ],
   "source": [
    "sel_col=['status', 'lost_reason', 'budget', 'lease','room_type']\n",
    "df2=df1[sel_col]\n",
    "df2"
   ]
  },
  {
   "cell_type": "code",
   "execution_count": 8,
   "id": "326d2e31",
   "metadata": {},
   "outputs": [
    {
     "name": "stdout",
     "output_type": "stream",
     "text": [
      "Total Unique Values in status column:\n",
      " \n",
      "LOST           43244\n",
      "WON             3073\n",
      "OPPORTUNITY      254\n",
      "CONTACTED         28\n",
      "PROCESSING         8\n",
      "IMPORTANT          1\n",
      "Name: status, dtype: int64\n",
      " \n",
      "------------------------------------------------------------------\n",
      " \n",
      "Total Unique Values in lost_reason column:\n",
      " \n",
      "Low availability                  8892\n",
      "Not responding                    7827\n",
      "Not interested                    6449\n",
      "Low budget                        5505\n",
      "Wants private accommodation       2781\n",
      "Short stay                        2264\n",
      "Not a student                     1518\n",
      "Just Enquiring                    1263\n",
      "Inadequate details                 827\n",
      "Semester stay                      817\n",
      "Booked with manager                676\n",
      "Junk lead                          629\n",
      "Booked on campus accommodation     613\n",
      "Supply issue                       538\n",
      "No supply                          534\n",
      "Not serving in that region         411\n",
      "Repeat lead                        394\n",
      "Booked with competitor             356\n",
      "Not going to university            329\n",
      "Distance issue                     219\n",
      "Junk lead/ Just Enquiring          147\n",
      "Lead issue                         127\n",
      "Looking for admission               41\n",
      "Didn't respond in time              35\n",
      "Visa/admission denied               17\n",
      "Guarantor issue                     17\n",
      "Looking for Scholarship              8\n",
      "Looking for loan                     5\n",
      "Underage student                     4\n",
      "Cross sell                           1\n",
      "Name: lost_reason, dtype: int64\n",
      " \n",
      "------------------------------------------------------------------\n",
      " \n",
      "Total Unique Values in budget column:\n",
      " \n",
      "£60 - £120 Per week     9862\n",
      "£121 - £180 Per Week    8954\n",
      "0-0                     5733\n",
      "£181 - £240 Per Week    2171\n",
      "100                     1516\n",
      "                        ... \n",
      "0-80-100$                  1\n",
      "0-235                      1\n",
      "£120-160 Per Week          1\n",
      "1400 per month             1\n",
      "0-500 PCM                  1\n",
      "Name: budget, Length: 1857, dtype: int64\n",
      " \n",
      "------------------------------------------------------------------\n",
      " \n",
      "Total Unique Values in lease column:\n",
      " \n",
      "Full Year Course Stay 40 - 44 weeks           11111\n",
      "0                                              7551\n",
      "Complete Education Year Stay 50 - 52 weeks     6538\n",
      "51                                             3963\n",
      "Semester Stay 20 - 24 weeks                    2770\n",
      "                                              ...  \n",
      "36-40 weeks                                       1\n",
      "12 month                                          1\n",
      "44 weeks/51 weeks                                 1\n",
      "full year stayt                                   1\n",
      "78                                                1\n",
      "Name: lease, Length: 311, dtype: int64\n",
      " \n",
      "------------------------------------------------------------------\n",
      " \n",
      "Total Unique Values in room_type column:\n",
      " \n",
      "Ensuite         12477\n",
      "Studio           6383\n",
      "Entire Place     4198\n",
      "Non-Ensuite         2\n",
      "Twin-Studio         1\n",
      "Name: room_type, dtype: int64\n",
      " \n",
      "------------------------------------------------------------------\n",
      " \n"
     ]
    }
   ],
   "source": [
    "# Let's see the total unique values\n",
    "for var in sel_col:\n",
    "    print('Total Unique Values in {} column:'.format(var))\n",
    "    print(' ')\n",
    "    print(df2[var].value_counts())\n",
    "    print(' ')\n",
    "    print('------------------------------------------------------------------')\n",
    "    print(' ')"
   ]
  },
  {
   "cell_type": "code",
   "execution_count": 9,
   "id": "394dbf8b",
   "metadata": {},
   "outputs": [
    {
     "name": "stdout",
     "output_type": "stream",
     "text": [
      "Unique Values in status column:\n",
      " \n",
      "['LOST' 'WON' 'OPPORTUNITY' 'CONTACTED' 'PROCESSING' 'IMPORTANT']\n",
      " \n",
      "------------------------------------------------------------------\n",
      " \n",
      "Unique Values in lost_reason column:\n",
      " \n",
      "['Not responding' 'Low budget' 'Junk lead' 'Wants private accommodation'\n",
      " 'Short stay' 'Booked with manager' 'Low availability' 'Not interested'\n",
      " 'Just Enquiring' 'Distance issue' 'Not serving in that region'\n",
      " 'No supply' 'Repeat lead' 'Not a student' 'Semester stay' 'Supply issue'\n",
      " nan 'Visa/admission denied' 'Inadequate details' 'Booked with competitor'\n",
      " 'Not going to university' 'Junk lead/ Just Enquiring' 'Lead issue'\n",
      " 'Booked on campus accommodation' 'Looking for admission'\n",
      " 'Underage student' 'Guarantor issue' \"Didn't respond in time\"\n",
      " 'Looking for loan' 'Looking for Scholarship' 'Cross sell']\n",
      " \n",
      "------------------------------------------------------------------\n",
      " \n",
      "Unique Values in budget column:\n",
      " \n",
      "[nan '£121 - £180 Per Week' '0-0' ... '400 Per Week' '0-115 or 120'\n",
      " '0-500 PCM']\n",
      " \n",
      "------------------------------------------------------------------\n",
      " \n",
      "Unique Values in room_type column:\n",
      " \n",
      "[nan 'Ensuite' 'Entire Place' 'Studio' 'Twin-Studio' 'Non-Ensuite']\n",
      " \n",
      "------------------------------------------------------------------\n",
      " \n"
     ]
    }
   ],
   "source": [
    "# Let's see the unique entries\n",
    "sel_col2=['status', 'lost_reason', 'budget','room_type']\n",
    "for var in sel_col2:\n",
    "    print('Unique Values in {} column:'.format(var))\n",
    "    print(' ')\n",
    "    print(df2[var].unique())\n",
    "    print(' ')\n",
    "    print('------------------------------------------------------------------')\n",
    "    print(' ')"
   ]
  },
  {
   "cell_type": "markdown",
   "id": "c4d8b198",
   "metadata": {},
   "source": [
    "## Step 5: Data Preprocessing"
   ]
  },
  {
   "cell_type": "markdown",
   "id": "df5c1339",
   "metadata": {},
   "source": [
    "### (A) Let's see the `status` column:\n",
    "    \n",
    " * There are total 6 types of entries.\n",
    " * Total Unique Values in status column: `[LOST- 43244, WON-3073, OPPORTUNITY-254 , CONTACTED-28, PROCESSING-8, IMPORTANT-1]`\n",
    " * We can see only two value have significant entries. So, I'm going to leave the others because they haven't significat contribution.\n",
    " \n"
   ]
  },
  {
   "cell_type": "code",
   "execution_count": 10,
   "id": "5fbdbef9",
   "metadata": {},
   "outputs": [],
   "source": [
    "# Remove rows with irrelevant statuses\n",
    "relevant_statuses = ['LOST', 'WON']\n",
    "df2 = df2[df2['status'].isin(relevant_statuses)]"
   ]
  },
  {
   "cell_type": "code",
   "execution_count": 11,
   "id": "d67e1688",
   "metadata": {},
   "outputs": [
    {
     "data": {
      "text/plain": [
       "LOST    43244\n",
       "WON      3073\n",
       "Name: status, dtype: int64"
      ]
     },
     "execution_count": 11,
     "metadata": {},
     "output_type": "execute_result"
    }
   ],
   "source": [
    "df2.status.value_counts()"
   ]
  },
  {
   "cell_type": "code",
   "execution_count": 12,
   "id": "f388e101",
   "metadata": {},
   "outputs": [
    {
     "data": {
      "text/html": [
       "<div>\n",
       "<style scoped>\n",
       "    .dataframe tbody tr th:only-of-type {\n",
       "        vertical-align: middle;\n",
       "    }\n",
       "\n",
       "    .dataframe tbody tr th {\n",
       "        vertical-align: top;\n",
       "    }\n",
       "\n",
       "    .dataframe thead th {\n",
       "        text-align: right;\n",
       "    }\n",
       "</style>\n",
       "<table border=\"1\" class=\"dataframe\">\n",
       "  <thead>\n",
       "    <tr style=\"text-align: right;\">\n",
       "      <th></th>\n",
       "      <th>status</th>\n",
       "      <th>lost_reason</th>\n",
       "      <th>budget</th>\n",
       "      <th>lease</th>\n",
       "      <th>room_type</th>\n",
       "    </tr>\n",
       "  </thead>\n",
       "  <tbody>\n",
       "    <tr>\n",
       "      <th>98</th>\n",
       "      <td>WON</td>\n",
       "      <td>NaN</td>\n",
       "      <td>109</td>\n",
       "      <td>51</td>\n",
       "      <td>NaN</td>\n",
       "    </tr>\n",
       "    <tr>\n",
       "      <th>111</th>\n",
       "      <td>WON</td>\n",
       "      <td>NaN</td>\n",
       "      <td>£121 - £180 Per Week</td>\n",
       "      <td>Full Year Course Stay 40 - 44 weeks</td>\n",
       "      <td>Studio</td>\n",
       "    </tr>\n",
       "    <tr>\n",
       "      <th>139</th>\n",
       "      <td>WON</td>\n",
       "      <td>NaN</td>\n",
       "      <td>£181 - £240 Per Week</td>\n",
       "      <td>Full Year Course Stay 40 - 44 weeks</td>\n",
       "      <td>Entire Place</td>\n",
       "    </tr>\n",
       "    <tr>\n",
       "      <th>141</th>\n",
       "      <td>WON</td>\n",
       "      <td>NaN</td>\n",
       "      <td>&gt; 300£ Per Week</td>\n",
       "      <td>Complete Education Year Stay 50 - 52 weeks</td>\n",
       "      <td>Ensuite</td>\n",
       "    </tr>\n",
       "    <tr>\n",
       "      <th>152</th>\n",
       "      <td>WON</td>\n",
       "      <td>NaN</td>\n",
       "      <td>£121 - £180 Per Week</td>\n",
       "      <td>Full Year Course Stay 40 - 44 weeks</td>\n",
       "      <td>Entire Place</td>\n",
       "    </tr>\n",
       "    <tr>\n",
       "      <th>...</th>\n",
       "      <td>...</td>\n",
       "      <td>...</td>\n",
       "      <td>...</td>\n",
       "      <td>...</td>\n",
       "      <td>...</td>\n",
       "    </tr>\n",
       "    <tr>\n",
       "      <th>46559</th>\n",
       "      <td>WON</td>\n",
       "      <td>NaN</td>\n",
       "      <td>139</td>\n",
       "      <td>42</td>\n",
       "      <td>NaN</td>\n",
       "    </tr>\n",
       "    <tr>\n",
       "      <th>46566</th>\n",
       "      <td>WON</td>\n",
       "      <td>NaN</td>\n",
       "      <td>179</td>\n",
       "      <td>51</td>\n",
       "      <td>NaN</td>\n",
       "    </tr>\n",
       "    <tr>\n",
       "      <th>46570</th>\n",
       "      <td>WON</td>\n",
       "      <td>NaN</td>\n",
       "      <td>180</td>\n",
       "      <td>44</td>\n",
       "      <td>NaN</td>\n",
       "    </tr>\n",
       "    <tr>\n",
       "      <th>46586</th>\n",
       "      <td>WON</td>\n",
       "      <td>NaN</td>\n",
       "      <td>£121 - £180 Per Week</td>\n",
       "      <td>Complete Education Year Stay 50 - 52 weeks</td>\n",
       "      <td>Studio</td>\n",
       "    </tr>\n",
       "    <tr>\n",
       "      <th>46592</th>\n",
       "      <td>WON</td>\n",
       "      <td>NaN</td>\n",
       "      <td>£60 - £120 Per week</td>\n",
       "      <td>Full Year Course Stay 40 - 44 weeks</td>\n",
       "      <td>Ensuite</td>\n",
       "    </tr>\n",
       "  </tbody>\n",
       "</table>\n",
       "<p>3073 rows × 5 columns</p>\n",
       "</div>"
      ],
      "text/plain": [
       "      status lost_reason                budget  \\\n",
       "98       WON         NaN                   109   \n",
       "111      WON         NaN  £121 - £180 Per Week   \n",
       "139      WON         NaN  £181 - £240 Per Week   \n",
       "141      WON         NaN       > 300£ Per Week   \n",
       "152      WON         NaN  £121 - £180 Per Week   \n",
       "...      ...         ...                   ...   \n",
       "46559    WON         NaN                   139   \n",
       "46566    WON         NaN                   179   \n",
       "46570    WON         NaN                   180   \n",
       "46586    WON         NaN  £121 - £180 Per Week   \n",
       "46592    WON         NaN   £60 - £120 Per week   \n",
       "\n",
       "                                            lease     room_type  \n",
       "98                                             51           NaN  \n",
       "111           Full Year Course Stay 40 - 44 weeks        Studio  \n",
       "139           Full Year Course Stay 40 - 44 weeks  Entire Place  \n",
       "141    Complete Education Year Stay 50 - 52 weeks       Ensuite  \n",
       "152           Full Year Course Stay 40 - 44 weeks  Entire Place  \n",
       "...                                           ...           ...  \n",
       "46559                                          42           NaN  \n",
       "46566                                          51           NaN  \n",
       "46570                                          44           NaN  \n",
       "46586  Complete Education Year Stay 50 - 52 weeks        Studio  \n",
       "46592         Full Year Course Stay 40 - 44 weeks       Ensuite  \n",
       "\n",
       "[3073 rows x 5 columns]"
      ]
     },
     "execution_count": 12,
     "metadata": {},
     "output_type": "execute_result"
    }
   ],
   "source": [
    "won_df = df2.groupby('status').get_group('WON')\n",
    "won_df"
   ]
  },
  {
   "cell_type": "markdown",
   "id": "dec66f77",
   "metadata": {},
   "source": [
    "### Let's fill the `NaN` value:"
   ]
  },
  {
   "cell_type": "code",
   "execution_count": 13,
   "id": "18499ea2",
   "metadata": {},
   "outputs": [
    {
     "name": "stderr",
     "output_type": "stream",
     "text": [
      "C:\\Users\\HP\\AppData\\Local\\Temp\\ipykernel_15544\\784232188.py:2: SettingWithCopyWarning: \n",
      "A value is trying to be set on a copy of a slice from a DataFrame\n",
      "\n",
      "See the caveats in the documentation: https://pandas.pydata.org/pandas-docs/stable/user_guide/indexing.html#returning-a-view-versus-a-copy\n",
      "  df2.loc[df2[\"status\"]== \"WON\", \"lost_reason\"] = df2.loc[df2[\"status\"] == \"WON\", \"lost_reason\"].fillna(\"Not_Applicable\")\n"
     ]
    }
   ],
   "source": [
    "# Fill NaN values in lost_reason column with \"Not Applicable\" where status is \"WON\"\n",
    "df2.loc[df2[\"status\"]== \"WON\", \"lost_reason\"] = df2.loc[df2[\"status\"] == \"WON\", \"lost_reason\"].fillna(\"Not_Applicable\")"
   ]
  },
  {
   "cell_type": "code",
   "execution_count": 14,
   "id": "c7c4f249",
   "metadata": {},
   "outputs": [
    {
     "data": {
      "text/html": [
       "<div>\n",
       "<style scoped>\n",
       "    .dataframe tbody tr th:only-of-type {\n",
       "        vertical-align: middle;\n",
       "    }\n",
       "\n",
       "    .dataframe tbody tr th {\n",
       "        vertical-align: top;\n",
       "    }\n",
       "\n",
       "    .dataframe thead th {\n",
       "        text-align: right;\n",
       "    }\n",
       "</style>\n",
       "<table border=\"1\" class=\"dataframe\">\n",
       "  <thead>\n",
       "    <tr style=\"text-align: right;\">\n",
       "      <th></th>\n",
       "      <th>status</th>\n",
       "      <th>lost_reason</th>\n",
       "      <th>budget</th>\n",
       "      <th>lease</th>\n",
       "      <th>room_type</th>\n",
       "    </tr>\n",
       "  </thead>\n",
       "  <tbody>\n",
       "    <tr>\n",
       "      <th>98</th>\n",
       "      <td>WON</td>\n",
       "      <td>Not_Applicable</td>\n",
       "      <td>109</td>\n",
       "      <td>51</td>\n",
       "      <td>NaN</td>\n",
       "    </tr>\n",
       "    <tr>\n",
       "      <th>111</th>\n",
       "      <td>WON</td>\n",
       "      <td>Not_Applicable</td>\n",
       "      <td>£121 - £180 Per Week</td>\n",
       "      <td>Full Year Course Stay 40 - 44 weeks</td>\n",
       "      <td>Studio</td>\n",
       "    </tr>\n",
       "    <tr>\n",
       "      <th>139</th>\n",
       "      <td>WON</td>\n",
       "      <td>Not_Applicable</td>\n",
       "      <td>£181 - £240 Per Week</td>\n",
       "      <td>Full Year Course Stay 40 - 44 weeks</td>\n",
       "      <td>Entire Place</td>\n",
       "    </tr>\n",
       "    <tr>\n",
       "      <th>141</th>\n",
       "      <td>WON</td>\n",
       "      <td>Not_Applicable</td>\n",
       "      <td>&gt; 300£ Per Week</td>\n",
       "      <td>Complete Education Year Stay 50 - 52 weeks</td>\n",
       "      <td>Ensuite</td>\n",
       "    </tr>\n",
       "    <tr>\n",
       "      <th>152</th>\n",
       "      <td>WON</td>\n",
       "      <td>Not_Applicable</td>\n",
       "      <td>£121 - £180 Per Week</td>\n",
       "      <td>Full Year Course Stay 40 - 44 weeks</td>\n",
       "      <td>Entire Place</td>\n",
       "    </tr>\n",
       "    <tr>\n",
       "      <th>...</th>\n",
       "      <td>...</td>\n",
       "      <td>...</td>\n",
       "      <td>...</td>\n",
       "      <td>...</td>\n",
       "      <td>...</td>\n",
       "    </tr>\n",
       "    <tr>\n",
       "      <th>46559</th>\n",
       "      <td>WON</td>\n",
       "      <td>Not_Applicable</td>\n",
       "      <td>139</td>\n",
       "      <td>42</td>\n",
       "      <td>NaN</td>\n",
       "    </tr>\n",
       "    <tr>\n",
       "      <th>46566</th>\n",
       "      <td>WON</td>\n",
       "      <td>Not_Applicable</td>\n",
       "      <td>179</td>\n",
       "      <td>51</td>\n",
       "      <td>NaN</td>\n",
       "    </tr>\n",
       "    <tr>\n",
       "      <th>46570</th>\n",
       "      <td>WON</td>\n",
       "      <td>Not_Applicable</td>\n",
       "      <td>180</td>\n",
       "      <td>44</td>\n",
       "      <td>NaN</td>\n",
       "    </tr>\n",
       "    <tr>\n",
       "      <th>46586</th>\n",
       "      <td>WON</td>\n",
       "      <td>Not_Applicable</td>\n",
       "      <td>£121 - £180 Per Week</td>\n",
       "      <td>Complete Education Year Stay 50 - 52 weeks</td>\n",
       "      <td>Studio</td>\n",
       "    </tr>\n",
       "    <tr>\n",
       "      <th>46592</th>\n",
       "      <td>WON</td>\n",
       "      <td>Not_Applicable</td>\n",
       "      <td>£60 - £120 Per week</td>\n",
       "      <td>Full Year Course Stay 40 - 44 weeks</td>\n",
       "      <td>Ensuite</td>\n",
       "    </tr>\n",
       "  </tbody>\n",
       "</table>\n",
       "<p>3073 rows × 5 columns</p>\n",
       "</div>"
      ],
      "text/plain": [
       "      status     lost_reason                budget  \\\n",
       "98       WON  Not_Applicable                   109   \n",
       "111      WON  Not_Applicable  £121 - £180 Per Week   \n",
       "139      WON  Not_Applicable  £181 - £240 Per Week   \n",
       "141      WON  Not_Applicable       > 300£ Per Week   \n",
       "152      WON  Not_Applicable  £121 - £180 Per Week   \n",
       "...      ...             ...                   ...   \n",
       "46559    WON  Not_Applicable                   139   \n",
       "46566    WON  Not_Applicable                   179   \n",
       "46570    WON  Not_Applicable                   180   \n",
       "46586    WON  Not_Applicable  £121 - £180 Per Week   \n",
       "46592    WON  Not_Applicable   £60 - £120 Per week   \n",
       "\n",
       "                                            lease     room_type  \n",
       "98                                             51           NaN  \n",
       "111           Full Year Course Stay 40 - 44 weeks        Studio  \n",
       "139           Full Year Course Stay 40 - 44 weeks  Entire Place  \n",
       "141    Complete Education Year Stay 50 - 52 weeks       Ensuite  \n",
       "152           Full Year Course Stay 40 - 44 weeks  Entire Place  \n",
       "...                                           ...           ...  \n",
       "46559                                          42           NaN  \n",
       "46566                                          51           NaN  \n",
       "46570                                          44           NaN  \n",
       "46586  Complete Education Year Stay 50 - 52 weeks        Studio  \n",
       "46592         Full Year Course Stay 40 - 44 weeks       Ensuite  \n",
       "\n",
       "[3073 rows x 5 columns]"
      ]
     },
     "execution_count": 14,
     "metadata": {},
     "output_type": "execute_result"
    }
   ],
   "source": [
    "df2.groupby('status').get_group('WON')"
   ]
  },
  {
   "cell_type": "markdown",
   "id": "f4ba68d0",
   "metadata": {},
   "source": [
    "### (B) Let's see the `lost_reason` column:\n",
    "* There are total `31` reasons but top `8-10` are the main reason and have more entries to analyse.\n",
    "* So I'm going to look only the `top-10` including `Not Applicable` lost_reasons.\n",
    "* Note that `Not Applicable` is appeared at the `WON` status. "
   ]
  },
  {
   "cell_type": "code",
   "execution_count": 15,
   "id": "164a3df1",
   "metadata": {},
   "outputs": [
    {
     "data": {
      "text/plain": [
       "Low availability                  8892\n",
       "Not responding                    7827\n",
       "Not interested                    6449\n",
       "Low budget                        5505\n",
       "Not_Applicable                    3073\n",
       "Wants private accommodation       2781\n",
       "Short stay                        2264\n",
       "Not a student                     1518\n",
       "Just Enquiring                    1263\n",
       "Inadequate details                 827\n",
       "Semester stay                      817\n",
       "Booked with manager                676\n",
       "Junk lead                          629\n",
       "Booked on campus accommodation     613\n",
       "Supply issue                       538\n",
       "No supply                          534\n",
       "Not serving in that region         411\n",
       "Repeat lead                        394\n",
       "Booked with competitor             356\n",
       "Not going to university            329\n",
       "Distance issue                     219\n",
       "Junk lead/ Just Enquiring          147\n",
       "Lead issue                         127\n",
       "Looking for admission               41\n",
       "Didn't respond in time              35\n",
       "Visa/admission denied               17\n",
       "Guarantor issue                     17\n",
       "Looking for Scholarship              8\n",
       "Looking for loan                     5\n",
       "Underage student                     4\n",
       "Cross sell                           1\n",
       "Name: lost_reason, dtype: int64"
      ]
     },
     "execution_count": 15,
     "metadata": {},
     "output_type": "execute_result"
    }
   ],
   "source": [
    "df2.lost_reason.value_counts()"
   ]
  },
  {
   "cell_type": "code",
   "execution_count": 16,
   "id": "9e85a2cb",
   "metadata": {},
   "outputs": [],
   "source": [
    "# Remove rows with irrelevant lost reasons\n",
    "top_reasons = ['Low availability', 'Not responding', 'Not interested', 'Low budget','Not_Applicable', 'Wants private accommodation',\n",
    "               'Short stay', 'Not a student', 'Just Enquiring', 'Inadequate details', 'Semester stay']\n",
    "df2 = df2[df2['lost_reason'].isin(top_reasons)]"
   ]
  },
  {
   "cell_type": "code",
   "execution_count": 17,
   "id": "f1473d33",
   "metadata": {},
   "outputs": [
    {
     "data": {
      "text/plain": [
       "Low availability               8892\n",
       "Not responding                 7827\n",
       "Not interested                 6449\n",
       "Low budget                     5505\n",
       "Not_Applicable                 3073\n",
       "Wants private accommodation    2781\n",
       "Short stay                     2264\n",
       "Not a student                  1518\n",
       "Just Enquiring                 1263\n",
       "Inadequate details              827\n",
       "Semester stay                   817\n",
       "Name: lost_reason, dtype: int64"
      ]
     },
     "execution_count": 17,
     "metadata": {},
     "output_type": "execute_result"
    }
   ],
   "source": [
    "df2.lost_reason.value_counts()"
   ]
  },
  {
   "cell_type": "markdown",
   "id": "e572e7b2",
   "metadata": {},
   "source": [
    "### (C) Let's see the `budget` column:\n",
    "* We can see the budget isn't in proper formatting. \n",
    "* Let's make it useful"
   ]
  },
  {
   "cell_type": "code",
   "execution_count": 18,
   "id": "3c21e800",
   "metadata": {},
   "outputs": [],
   "source": [
    "# Convert budget column to numerical format\n",
    "df2['budget'] = df2['budget'].str.replace('£', '').str.extract('(\\d+)')\n",
    "df2['budget'] = pd.to_numeric(df2['budget'])"
   ]
  },
  {
   "cell_type": "code",
   "execution_count": 19,
   "id": "392d44a6",
   "metadata": {},
   "outputs": [
    {
     "data": {
      "text/plain": [
       "60.0      8874\n",
       "121.0     7879\n",
       "0.0       6480\n",
       "181.0     1963\n",
       "100.0     1403\n",
       "          ... \n",
       "369.0        1\n",
       "1779.0       1\n",
       "272.0        1\n",
       "1860.0       1\n",
       "332.0        1\n",
       "Name: budget, Length: 443, dtype: int64"
      ]
     },
     "execution_count": 19,
     "metadata": {},
     "output_type": "execute_result"
    }
   ],
   "source": [
    "df2.budget.value_counts()"
   ]
  },
  {
   "cell_type": "markdown",
   "id": "20a0c7a3",
   "metadata": {},
   "source": [
    "### (D) Let's see the `lease` column:\n",
    "* In this column either the values are empty or combination of str and week number.\n",
    "* I'm going to change it into the numeric form i.e., number of weeks"
   ]
  },
  {
   "cell_type": "code",
   "execution_count": 20,
   "id": "f83d4267",
   "metadata": {},
   "outputs": [],
   "source": [
    "# Convert lease column to numerical format\n",
    "df2['lease'] = df2['lease'].str.extract('(\\d+)')\n",
    "df2['lease'] = pd.to_numeric(df2['lease'])"
   ]
  },
  {
   "cell_type": "code",
   "execution_count": 21,
   "id": "afbf81a3",
   "metadata": {},
   "outputs": [
    {
     "data": {
      "text/plain": [
       "40.0     9866\n",
       "0.0      6550\n",
       "50.0     5761\n",
       "51.0     4112\n",
       "20.0     2527\n",
       "         ... \n",
       "61.0        1\n",
       "207.0       1\n",
       "500.0       1\n",
       "140.0       1\n",
       "78.0        1\n",
       "Name: lease, Length: 88, dtype: int64"
      ]
     },
     "execution_count": 21,
     "metadata": {},
     "output_type": "execute_result"
    }
   ],
   "source": [
    "df2.lease.value_counts()"
   ]
  },
  {
   "cell_type": "markdown",
   "id": "d058ecb1",
   "metadata": {},
   "source": [
    "### (E) Let's see the `room_type` colum:\n",
    "* We can see the room_type has total `5` types of entries.\n",
    "```\n",
    "Ensuite         10126\n",
    "Studio           5190\n",
    "Entire Place     3622\n",
    "Non-Ensuite         2\n",
    "Twin-Studio         1\n",
    "```\n",
    "\n",
    "* Now we can see the `top-3` have a significant number of entries where last to we can leave."
   ]
  },
  {
   "cell_type": "code",
   "execution_count": 22,
   "id": "19e66c4b",
   "metadata": {},
   "outputs": [],
   "source": [
    "top_room_type=['Ensuite', 'Studio', 'Entire Place']\n",
    "df2=df2[df2['room_type'].isin(top_room_type)]"
   ]
  },
  {
   "cell_type": "code",
   "execution_count": 23,
   "id": "9df1ca82",
   "metadata": {},
   "outputs": [
    {
     "data": {
      "text/plain": [
       "Ensuite         10981\n",
       "Studio           5639\n",
       "Entire Place     3779\n",
       "Name: room_type, dtype: int64"
      ]
     },
     "execution_count": 23,
     "metadata": {},
     "output_type": "execute_result"
    }
   ],
   "source": [
    "df2.room_type.value_counts()"
   ]
  },
  {
   "cell_type": "code",
   "execution_count": 24,
   "id": "b7f4fcbf",
   "metadata": {},
   "outputs": [
    {
     "data": {
      "text/plain": [
       "0"
      ]
     },
     "execution_count": 24,
     "metadata": {},
     "output_type": "execute_result"
    }
   ],
   "source": [
    "df2.room_type.isnull().sum().sum()"
   ]
  },
  {
   "cell_type": "markdown",
   "id": "f25028d1",
   "metadata": {},
   "source": [
    "### One-Hot-Encoding:\n",
    "* As we can see `room_type` column haven't null values and its categorical data type.\n",
    "* So, I'm going to use OHE at this column."
   ]
  },
  {
   "cell_type": "code",
   "execution_count": 25,
   "id": "98ac899b",
   "metadata": {},
   "outputs": [],
   "source": [
    "# One-hot encode room_type column\n",
    "df2 = pd.get_dummies(df2, columns=['room_type'])"
   ]
  },
  {
   "cell_type": "code",
   "execution_count": 26,
   "id": "df86ece6",
   "metadata": {},
   "outputs": [
    {
     "data": {
      "text/html": [
       "<div>\n",
       "<style scoped>\n",
       "    .dataframe tbody tr th:only-of-type {\n",
       "        vertical-align: middle;\n",
       "    }\n",
       "\n",
       "    .dataframe tbody tr th {\n",
       "        vertical-align: top;\n",
       "    }\n",
       "\n",
       "    .dataframe thead th {\n",
       "        text-align: right;\n",
       "    }\n",
       "</style>\n",
       "<table border=\"1\" class=\"dataframe\">\n",
       "  <thead>\n",
       "    <tr style=\"text-align: right;\">\n",
       "      <th></th>\n",
       "      <th>status</th>\n",
       "      <th>lost_reason</th>\n",
       "      <th>budget</th>\n",
       "      <th>lease</th>\n",
       "      <th>room_type_Ensuite</th>\n",
       "      <th>room_type_Entire Place</th>\n",
       "      <th>room_type_Studio</th>\n",
       "    </tr>\n",
       "  </thead>\n",
       "  <tbody>\n",
       "    <tr>\n",
       "      <th>2</th>\n",
       "      <td>LOST</td>\n",
       "      <td>Not responding</td>\n",
       "      <td>121.0</td>\n",
       "      <td>40.0</td>\n",
       "      <td>1</td>\n",
       "      <td>0</td>\n",
       "      <td>0</td>\n",
       "    </tr>\n",
       "    <tr>\n",
       "      <th>7</th>\n",
       "      <td>LOST</td>\n",
       "      <td>Wants private accommodation</td>\n",
       "      <td>181.0</td>\n",
       "      <td>51.0</td>\n",
       "      <td>0</td>\n",
       "      <td>1</td>\n",
       "      <td>0</td>\n",
       "    </tr>\n",
       "    <tr>\n",
       "      <th>11</th>\n",
       "      <td>LOST</td>\n",
       "      <td>Not responding</td>\n",
       "      <td>121.0</td>\n",
       "      <td>40.0</td>\n",
       "      <td>1</td>\n",
       "      <td>0</td>\n",
       "      <td>0</td>\n",
       "    </tr>\n",
       "    <tr>\n",
       "      <th>12</th>\n",
       "      <td>LOST</td>\n",
       "      <td>Wants private accommodation</td>\n",
       "      <td>121.0</td>\n",
       "      <td>40.0</td>\n",
       "      <td>0</td>\n",
       "      <td>1</td>\n",
       "      <td>0</td>\n",
       "    </tr>\n",
       "    <tr>\n",
       "      <th>13</th>\n",
       "      <td>LOST</td>\n",
       "      <td>Not responding</td>\n",
       "      <td>181.0</td>\n",
       "      <td>50.0</td>\n",
       "      <td>0</td>\n",
       "      <td>1</td>\n",
       "      <td>0</td>\n",
       "    </tr>\n",
       "    <tr>\n",
       "      <th>...</th>\n",
       "      <td>...</td>\n",
       "      <td>...</td>\n",
       "      <td>...</td>\n",
       "      <td>...</td>\n",
       "      <td>...</td>\n",
       "      <td>...</td>\n",
       "      <td>...</td>\n",
       "    </tr>\n",
       "    <tr>\n",
       "      <th>46602</th>\n",
       "      <td>LOST</td>\n",
       "      <td>Wants private accommodation</td>\n",
       "      <td>121.0</td>\n",
       "      <td>NaN</td>\n",
       "      <td>0</td>\n",
       "      <td>1</td>\n",
       "      <td>0</td>\n",
       "    </tr>\n",
       "    <tr>\n",
       "      <th>46603</th>\n",
       "      <td>LOST</td>\n",
       "      <td>Low availability</td>\n",
       "      <td>60.0</td>\n",
       "      <td>50.0</td>\n",
       "      <td>0</td>\n",
       "      <td>0</td>\n",
       "      <td>1</td>\n",
       "    </tr>\n",
       "    <tr>\n",
       "      <th>46604</th>\n",
       "      <td>LOST</td>\n",
       "      <td>Semester stay</td>\n",
       "      <td>60.0</td>\n",
       "      <td>8.0</td>\n",
       "      <td>0</td>\n",
       "      <td>0</td>\n",
       "      <td>1</td>\n",
       "    </tr>\n",
       "    <tr>\n",
       "      <th>46605</th>\n",
       "      <td>LOST</td>\n",
       "      <td>Low availability</td>\n",
       "      <td>241.0</td>\n",
       "      <td>40.0</td>\n",
       "      <td>0</td>\n",
       "      <td>0</td>\n",
       "      <td>1</td>\n",
       "    </tr>\n",
       "    <tr>\n",
       "      <th>46607</th>\n",
       "      <td>LOST</td>\n",
       "      <td>Low availability</td>\n",
       "      <td>181.0</td>\n",
       "      <td>40.0</td>\n",
       "      <td>0</td>\n",
       "      <td>0</td>\n",
       "      <td>1</td>\n",
       "    </tr>\n",
       "  </tbody>\n",
       "</table>\n",
       "<p>20399 rows × 7 columns</p>\n",
       "</div>"
      ],
      "text/plain": [
       "      status                  lost_reason  budget  lease  room_type_Ensuite  \\\n",
       "2       LOST               Not responding   121.0   40.0                  1   \n",
       "7       LOST  Wants private accommodation   181.0   51.0                  0   \n",
       "11      LOST               Not responding   121.0   40.0                  1   \n",
       "12      LOST  Wants private accommodation   121.0   40.0                  0   \n",
       "13      LOST               Not responding   181.0   50.0                  0   \n",
       "...      ...                          ...     ...    ...                ...   \n",
       "46602   LOST  Wants private accommodation   121.0    NaN                  0   \n",
       "46603   LOST             Low availability    60.0   50.0                  0   \n",
       "46604   LOST                Semester stay    60.0    8.0                  0   \n",
       "46605   LOST             Low availability   241.0   40.0                  0   \n",
       "46607   LOST             Low availability   181.0   40.0                  0   \n",
       "\n",
       "       room_type_Entire Place  room_type_Studio  \n",
       "2                           0                 0  \n",
       "7                           1                 0  \n",
       "11                          0                 0  \n",
       "12                          1                 0  \n",
       "13                          1                 0  \n",
       "...                       ...               ...  \n",
       "46602                       1                 0  \n",
       "46603                       0                 1  \n",
       "46604                       0                 1  \n",
       "46605                       0                 1  \n",
       "46607                       0                 1  \n",
       "\n",
       "[20399 rows x 7 columns]"
      ]
     },
     "execution_count": 26,
     "metadata": {},
     "output_type": "execute_result"
    }
   ],
   "source": [
    "df2"
   ]
  },
  {
   "cell_type": "markdown",
   "id": "552e9ec0",
   "metadata": {},
   "source": [
    "## Step 6: Handelling missing values & Outliers:"
   ]
  },
  {
   "cell_type": "code",
   "execution_count": 27,
   "id": "1c6d1d89",
   "metadata": {},
   "outputs": [
    {
     "data": {
      "text/plain": [
       "status                      0\n",
       "lost_reason                 0\n",
       "budget                      1\n",
       "lease                     839\n",
       "room_type_Ensuite           0\n",
       "room_type_Entire Place      0\n",
       "room_type_Studio            0\n",
       "dtype: int64"
      ]
     },
     "execution_count": 27,
     "metadata": {},
     "output_type": "execute_result"
    }
   ],
   "source": [
    "df2.isnull().sum()"
   ]
  },
  {
   "cell_type": "markdown",
   "id": "aa0bb4c8",
   "metadata": {},
   "source": [
    "### Note:\n",
    "* There are only three columns have missing values.\n",
    "* The two column have only 1-1 missing values. So we can leave them.\n",
    "* Also, we can see the maximum missing values is in `lease` columns. So, let's fix it"
   ]
  },
  {
   "cell_type": "code",
   "execution_count": 28,
   "id": "3ca3b49b",
   "metadata": {},
   "outputs": [
    {
     "name": "stdout",
     "output_type": "stream",
     "text": [
      "Percentage of missing values in 'lease' column: 4.11%\n"
     ]
    }
   ],
   "source": [
    "percentage_missing_values = (df2['lease'].isna().sum() / df2.shape[0]) * 100\n",
    "print(f\"Percentage of missing values in 'lease' column: {percentage_missing_values:.2f}%\")"
   ]
  },
  {
   "cell_type": "markdown",
   "id": "30798855",
   "metadata": {},
   "source": [
    "### We can use most frequent value to fill empty places:"
   ]
  },
  {
   "cell_type": "code",
   "execution_count": 29,
   "id": "4c888f7f",
   "metadata": {},
   "outputs": [
    {
     "data": {
      "text/plain": [
       "40.0"
      ]
     },
     "execution_count": 29,
     "metadata": {},
     "output_type": "execute_result"
    }
   ],
   "source": [
    "most_common_lease = df2['lease'].mode()[0]\n",
    "most_common_lease"
   ]
  },
  {
   "cell_type": "code",
   "execution_count": 30,
   "id": "772812ca",
   "metadata": {},
   "outputs": [],
   "source": [
    "df2['lease'] = df2['lease'].fillna(most_common_lease)"
   ]
  },
  {
   "cell_type": "code",
   "execution_count": 31,
   "id": "f4b84bc4",
   "metadata": {},
   "outputs": [
    {
     "data": {
      "text/plain": [
       "count    20399.000000\n",
       "mean        37.451689\n",
       "std         13.021805\n",
       "min          0.000000\n",
       "25%         40.000000\n",
       "50%         40.000000\n",
       "75%         50.000000\n",
       "max        144.000000\n",
       "Name: lease, dtype: float64"
      ]
     },
     "execution_count": 31,
     "metadata": {},
     "output_type": "execute_result"
    }
   ],
   "source": [
    "df2.lease.describe()"
   ]
  },
  {
   "cell_type": "markdown",
   "id": "6f11ac08",
   "metadata": {},
   "source": [
    "### Let's visualize it:"
   ]
  },
  {
   "cell_type": "code",
   "execution_count": 32,
   "id": "5cbee9d8",
   "metadata": {},
   "outputs": [
    {
     "name": "stderr",
     "output_type": "stream",
     "text": [
      "C:\\Users\\HP\\anaconda3\\lib\\site-packages\\seaborn\\_decorators.py:36: FutureWarning: Pass the following variable as a keyword arg: x. From version 0.12, the only valid positional argument will be `data`, and passing other arguments without an explicit keyword will result in an error or misinterpretation.\n",
      "  warnings.warn(\n"
     ]
    },
    {
     "data": {
      "image/png": "[encoded data removed]",
      "text/plain": [
       "<Figure size 576x432 with 1 Axes>"
      ]
     },
     "metadata": {
      "needs_background": "light"
     },
     "output_type": "display_data"
    }
   ],
   "source": [
    "df2['lease'] = pd.to_numeric(df2['lease'], errors='coerce')\n",
    "plt.figure(figsize=(8,6))\n",
    "sns.boxplot(df2['lease'].dropna())\n",
    "plt.show()"
   ]
  },
  {
   "cell_type": "code",
   "execution_count": 33,
   "id": "14eb8715",
   "metadata": {},
   "outputs": [
    {
     "name": "stdout",
     "output_type": "stream",
     "text": [
      "Q1= 40.0\n",
      "Q3= 50.0\n",
      "IQR= 10.0\n",
      "Lower Bound= 25.0\n",
      "Upper_Bound= 65.0\n"
     ]
    }
   ],
   "source": [
    "# Calculate the IQR\n",
    "Q1 = df2['lease'].quantile(0.25)\n",
    "Q3 = df2['lease'].quantile(0.75)\n",
    "IQR = Q3 - Q1\n",
    "\n",
    "# Calculate the upper and lower bounds\n",
    "lower_bound = Q1 - 1.5 * IQR\n",
    "upper_bound = Q3 + 1.5 * IQR\n",
    "\n",
    "print('Q1=',Q1)\n",
    "print('Q3=',Q3)\n",
    "print('IQR=',IQR)\n",
    "print('Lower Bound=',lower_bound)\n",
    "print('Upper_Bound=',upper_bound)"
   ]
  },
  {
   "cell_type": "code",
   "execution_count": 34,
   "id": "9c85d4b4",
   "metadata": {},
   "outputs": [],
   "source": [
    "# Remove outliers\n",
    "df2=df2[(df2['lease'] >= lower_bound) & (df2['lease'] <= upper_bound)]\n"
   ]
  },
  {
   "cell_type": "code",
   "execution_count": 35,
   "id": "06d990af",
   "metadata": {},
   "outputs": [
    {
     "name": "stderr",
     "output_type": "stream",
     "text": [
      "C:\\Users\\HP\\anaconda3\\lib\\site-packages\\seaborn\\_decorators.py:36: FutureWarning: Pass the following variable as a keyword arg: x. From version 0.12, the only valid positional argument will be `data`, and passing other arguments without an explicit keyword will result in an error or misinterpretation.\n",
      "  warnings.warn(\n"
     ]
    },
    {
     "data": {
      "image/png": "[encoded data removed]",
      "text/plain": [
       "<Figure size 576x432 with 1 Axes>"
      ]
     },
     "metadata": {
      "needs_background": "light"
     },
     "output_type": "display_data"
    }
   ],
   "source": [
    "# Let's see now\n",
    "plt.figure(figsize=(8,6))\n",
    "sns.boxplot(df2['lease'])\n",
    "plt.show()"
   ]
  },
  {
   "cell_type": "markdown",
   "id": "2b45787c",
   "metadata": {},
   "source": [
    "### Let's remove the outliers in `budget` colum:"
   ]
  },
  {
   "cell_type": "code",
   "execution_count": 36,
   "id": "021c4ac2",
   "metadata": {},
   "outputs": [
    {
     "name": "stderr",
     "output_type": "stream",
     "text": [
      "C:\\Users\\HP\\anaconda3\\lib\\site-packages\\seaborn\\_decorators.py:36: FutureWarning: Pass the following variable as a keyword arg: x. From version 0.12, the only valid positional argument will be `data`, and passing other arguments without an explicit keyword will result in an error or misinterpretation.\n",
      "  warnings.warn(\n"
     ]
    },
    {
     "data": {
      "image/png": "[encoded data removed]",
      "text/plain": [
       "<Figure size 576x432 with 1 Axes>"
      ]
     },
     "metadata": {
      "needs_background": "light"
     },
     "output_type": "display_data"
    }
   ],
   "source": [
    "# Let's plot\n",
    "plt.figure(figsize=(8,6))\n",
    "sns.boxplot(df2['budget'])\n",
    "plt.show()"
   ]
  },
  {
   "cell_type": "code",
   "execution_count": 37,
   "id": "459c9b87",
   "metadata": {},
   "outputs": [
    {
     "name": "stdout",
     "output_type": "stream",
     "text": [
      "Q1= 60.0\n",
      "Q3= 121.0\n",
      "IQR= 61.0\n",
      "Lower Bound= -31.5\n",
      "Upper_Bound= 212.5\n"
     ]
    }
   ],
   "source": [
    "# Calculate the IQR\n",
    "Q1 = df2['budget'].quantile(0.25)\n",
    "Q3 = df2['budget'].quantile(0.75)\n",
    "IQR = Q3 - Q1\n",
    "\n",
    "# Calculate the upper and lower bounds\n",
    "lower_bound = Q1 - 1.5 * IQR\n",
    "upper_bound = Q3 + 1.5 * IQR\n",
    "\n",
    "print('Q1=',Q1)\n",
    "print('Q3=',Q3)\n",
    "print('IQR=',IQR)\n",
    "print('Lower Bound=',lower_bound)\n",
    "print('Upper_Bound=',upper_bound)\n"
   ]
  },
  {
   "cell_type": "code",
   "execution_count": 38,
   "id": "2002212f",
   "metadata": {},
   "outputs": [],
   "source": [
    "# Remove outliers\n",
    "df2=df2[(df2['budget'] >= lower_bound) & (df2['budget'] <= upper_bound)]"
   ]
  },
  {
   "cell_type": "code",
   "execution_count": 39,
   "id": "64239a14",
   "metadata": {},
   "outputs": [
    {
     "name": "stderr",
     "output_type": "stream",
     "text": [
      "C:\\Users\\HP\\anaconda3\\lib\\site-packages\\seaborn\\_decorators.py:36: FutureWarning: Pass the following variable as a keyword arg: x. From version 0.12, the only valid positional argument will be `data`, and passing other arguments without an explicit keyword will result in an error or misinterpretation.\n",
      "  warnings.warn(\n"
     ]
    },
    {
     "data": {
      "image/png": "[encoded data removed]",
      "text/plain": [
       "<Figure size 576x432 with 1 Axes>"
      ]
     },
     "metadata": {
      "needs_background": "light"
     },
     "output_type": "display_data"
    }
   ],
   "source": [
    "# Let's plot again\n",
    "plt.figure(figsize=(8,6))\n",
    "sns.boxplot(df2['budget'])\n",
    "plt.show()"
   ]
  },
  {
   "cell_type": "code",
   "execution_count": 40,
   "id": "5de3d37c",
   "metadata": {},
   "outputs": [
    {
     "data": {
      "text/html": [
       "<div>\n",
       "<style scoped>\n",
       "    .dataframe tbody tr th:only-of-type {\n",
       "        vertical-align: middle;\n",
       "    }\n",
       "\n",
       "    .dataframe tbody tr th {\n",
       "        vertical-align: top;\n",
       "    }\n",
       "\n",
       "    .dataframe thead th {\n",
       "        text-align: right;\n",
       "    }\n",
       "</style>\n",
       "<table border=\"1\" class=\"dataframe\">\n",
       "  <thead>\n",
       "    <tr style=\"text-align: right;\">\n",
       "      <th></th>\n",
       "      <th>status</th>\n",
       "      <th>lost_reason</th>\n",
       "      <th>budget</th>\n",
       "      <th>lease</th>\n",
       "      <th>room_type_Ensuite</th>\n",
       "      <th>room_type_Entire Place</th>\n",
       "      <th>room_type_Studio</th>\n",
       "    </tr>\n",
       "  </thead>\n",
       "  <tbody>\n",
       "    <tr>\n",
       "      <th>2</th>\n",
       "      <td>LOST</td>\n",
       "      <td>Not responding</td>\n",
       "      <td>121.0</td>\n",
       "      <td>40.0</td>\n",
       "      <td>1</td>\n",
       "      <td>0</td>\n",
       "      <td>0</td>\n",
       "    </tr>\n",
       "    <tr>\n",
       "      <th>7</th>\n",
       "      <td>LOST</td>\n",
       "      <td>Wants private accommodation</td>\n",
       "      <td>181.0</td>\n",
       "      <td>51.0</td>\n",
       "      <td>0</td>\n",
       "      <td>1</td>\n",
       "      <td>0</td>\n",
       "    </tr>\n",
       "    <tr>\n",
       "      <th>11</th>\n",
       "      <td>LOST</td>\n",
       "      <td>Not responding</td>\n",
       "      <td>121.0</td>\n",
       "      <td>40.0</td>\n",
       "      <td>1</td>\n",
       "      <td>0</td>\n",
       "      <td>0</td>\n",
       "    </tr>\n",
       "    <tr>\n",
       "      <th>12</th>\n",
       "      <td>LOST</td>\n",
       "      <td>Wants private accommodation</td>\n",
       "      <td>121.0</td>\n",
       "      <td>40.0</td>\n",
       "      <td>0</td>\n",
       "      <td>1</td>\n",
       "      <td>0</td>\n",
       "    </tr>\n",
       "    <tr>\n",
       "      <th>13</th>\n",
       "      <td>LOST</td>\n",
       "      <td>Not responding</td>\n",
       "      <td>181.0</td>\n",
       "      <td>50.0</td>\n",
       "      <td>0</td>\n",
       "      <td>1</td>\n",
       "      <td>0</td>\n",
       "    </tr>\n",
       "    <tr>\n",
       "      <th>...</th>\n",
       "      <td>...</td>\n",
       "      <td>...</td>\n",
       "      <td>...</td>\n",
       "      <td>...</td>\n",
       "      <td>...</td>\n",
       "      <td>...</td>\n",
       "      <td>...</td>\n",
       "    </tr>\n",
       "    <tr>\n",
       "      <th>46597</th>\n",
       "      <td>LOST</td>\n",
       "      <td>Low availability</td>\n",
       "      <td>121.0</td>\n",
       "      <td>40.0</td>\n",
       "      <td>1</td>\n",
       "      <td>0</td>\n",
       "      <td>0</td>\n",
       "    </tr>\n",
       "    <tr>\n",
       "      <th>46598</th>\n",
       "      <td>LOST</td>\n",
       "      <td>Not interested</td>\n",
       "      <td>60.0</td>\n",
       "      <td>40.0</td>\n",
       "      <td>0</td>\n",
       "      <td>1</td>\n",
       "      <td>0</td>\n",
       "    </tr>\n",
       "    <tr>\n",
       "      <th>46602</th>\n",
       "      <td>LOST</td>\n",
       "      <td>Wants private accommodation</td>\n",
       "      <td>121.0</td>\n",
       "      <td>40.0</td>\n",
       "      <td>0</td>\n",
       "      <td>1</td>\n",
       "      <td>0</td>\n",
       "    </tr>\n",
       "    <tr>\n",
       "      <th>46603</th>\n",
       "      <td>LOST</td>\n",
       "      <td>Low availability</td>\n",
       "      <td>60.0</td>\n",
       "      <td>50.0</td>\n",
       "      <td>0</td>\n",
       "      <td>0</td>\n",
       "      <td>1</td>\n",
       "    </tr>\n",
       "    <tr>\n",
       "      <th>46607</th>\n",
       "      <td>LOST</td>\n",
       "      <td>Low availability</td>\n",
       "      <td>181.0</td>\n",
       "      <td>40.0</td>\n",
       "      <td>0</td>\n",
       "      <td>0</td>\n",
       "      <td>1</td>\n",
       "    </tr>\n",
       "  </tbody>\n",
       "</table>\n",
       "<p>14875 rows × 7 columns</p>\n",
       "</div>"
      ],
      "text/plain": [
       "      status                  lost_reason  budget  lease  room_type_Ensuite  \\\n",
       "2       LOST               Not responding   121.0   40.0                  1   \n",
       "7       LOST  Wants private accommodation   181.0   51.0                  0   \n",
       "11      LOST               Not responding   121.0   40.0                  1   \n",
       "12      LOST  Wants private accommodation   121.0   40.0                  0   \n",
       "13      LOST               Not responding   181.0   50.0                  0   \n",
       "...      ...                          ...     ...    ...                ...   \n",
       "46597   LOST             Low availability   121.0   40.0                  1   \n",
       "46598   LOST               Not interested    60.0   40.0                  0   \n",
       "46602   LOST  Wants private accommodation   121.0   40.0                  0   \n",
       "46603   LOST             Low availability    60.0   50.0                  0   \n",
       "46607   LOST             Low availability   181.0   40.0                  0   \n",
       "\n",
       "       room_type_Entire Place  room_type_Studio  \n",
       "2                           0                 0  \n",
       "7                           1                 0  \n",
       "11                          0                 0  \n",
       "12                          1                 0  \n",
       "13                          1                 0  \n",
       "...                       ...               ...  \n",
       "46597                       0                 0  \n",
       "46598                       1                 0  \n",
       "46602                       1                 0  \n",
       "46603                       0                 1  \n",
       "46607                       0                 1  \n",
       "\n",
       "[14875 rows x 7 columns]"
      ]
     },
     "execution_count": 40,
     "metadata": {},
     "output_type": "execute_result"
    }
   ],
   "source": [
    "df2"
   ]
  },
  {
   "cell_type": "code",
   "execution_count": 41,
   "id": "e5ccb75f",
   "metadata": {},
   "outputs": [
    {
     "data": {
      "text/plain": [
       "<AxesSubplot:>"
      ]
     },
     "execution_count": 41,
     "metadata": {},
     "output_type": "execute_result"
    },
    {
     "data": {
      "image/png": "[encoded data removed]",
      "text/plain": [
       "<Figure size 432x288 with 2 Axes>"
      ]
     },
     "metadata": {
      "needs_background": "light"
     },
     "output_type": "display_data"
    }
   ],
   "source": [
    "df2=df2.dropna()\n",
    "sns.heatmap(df2.isnull())"
   ]
  },
  {
   "cell_type": "markdown",
   "id": "d3ccd427",
   "metadata": {},
   "source": [
    "## Step 7: Let's do final Encoding:"
   ]
  },
  {
   "cell_type": "code",
   "execution_count": 42,
   "id": "c179bfd3",
   "metadata": {},
   "outputs": [],
   "source": [
    "from sklearn.preprocessing import LabelEncoder\n",
    "\n",
    "le = LabelEncoder()\n",
    "df2['status'] = le.fit_transform(df2['status'])\n",
    "df2['lost_reason'] = le.fit_transform(df2['lost_reason'])\n"
   ]
  },
  {
   "cell_type": "markdown",
   "id": "8da28e67",
   "metadata": {},
   "source": [
    "### Let's see the dataset:"
   ]
  },
  {
   "cell_type": "code",
   "execution_count": 43,
   "id": "07bd04b9",
   "metadata": {},
   "outputs": [
    {
     "data": {
      "text/html": [
       "<div>\n",
       "<style scoped>\n",
       "    .dataframe tbody tr th:only-of-type {\n",
       "        vertical-align: middle;\n",
       "    }\n",
       "\n",
       "    .dataframe tbody tr th {\n",
       "        vertical-align: top;\n",
       "    }\n",
       "\n",
       "    .dataframe thead th {\n",
       "        text-align: right;\n",
       "    }\n",
       "</style>\n",
       "<table border=\"1\" class=\"dataframe\">\n",
       "  <thead>\n",
       "    <tr style=\"text-align: right;\">\n",
       "      <th></th>\n",
       "      <th>status</th>\n",
       "      <th>lost_reason</th>\n",
       "      <th>budget</th>\n",
       "      <th>lease</th>\n",
       "      <th>room_type_Ensuite</th>\n",
       "      <th>room_type_Entire Place</th>\n",
       "      <th>room_type_Studio</th>\n",
       "    </tr>\n",
       "  </thead>\n",
       "  <tbody>\n",
       "    <tr>\n",
       "      <th>2</th>\n",
       "      <td>0</td>\n",
       "      <td>6</td>\n",
       "      <td>121.0</td>\n",
       "      <td>40.0</td>\n",
       "      <td>1</td>\n",
       "      <td>0</td>\n",
       "      <td>0</td>\n",
       "    </tr>\n",
       "    <tr>\n",
       "      <th>7</th>\n",
       "      <td>0</td>\n",
       "      <td>10</td>\n",
       "      <td>181.0</td>\n",
       "      <td>51.0</td>\n",
       "      <td>0</td>\n",
       "      <td>1</td>\n",
       "      <td>0</td>\n",
       "    </tr>\n",
       "    <tr>\n",
       "      <th>11</th>\n",
       "      <td>0</td>\n",
       "      <td>6</td>\n",
       "      <td>121.0</td>\n",
       "      <td>40.0</td>\n",
       "      <td>1</td>\n",
       "      <td>0</td>\n",
       "      <td>0</td>\n",
       "    </tr>\n",
       "    <tr>\n",
       "      <th>12</th>\n",
       "      <td>0</td>\n",
       "      <td>10</td>\n",
       "      <td>121.0</td>\n",
       "      <td>40.0</td>\n",
       "      <td>0</td>\n",
       "      <td>1</td>\n",
       "      <td>0</td>\n",
       "    </tr>\n",
       "    <tr>\n",
       "      <th>13</th>\n",
       "      <td>0</td>\n",
       "      <td>6</td>\n",
       "      <td>181.0</td>\n",
       "      <td>50.0</td>\n",
       "      <td>0</td>\n",
       "      <td>1</td>\n",
       "      <td>0</td>\n",
       "    </tr>\n",
       "    <tr>\n",
       "      <th>...</th>\n",
       "      <td>...</td>\n",
       "      <td>...</td>\n",
       "      <td>...</td>\n",
       "      <td>...</td>\n",
       "      <td>...</td>\n",
       "      <td>...</td>\n",
       "      <td>...</td>\n",
       "    </tr>\n",
       "    <tr>\n",
       "      <th>46597</th>\n",
       "      <td>0</td>\n",
       "      <td>2</td>\n",
       "      <td>121.0</td>\n",
       "      <td>40.0</td>\n",
       "      <td>1</td>\n",
       "      <td>0</td>\n",
       "      <td>0</td>\n",
       "    </tr>\n",
       "    <tr>\n",
       "      <th>46598</th>\n",
       "      <td>0</td>\n",
       "      <td>5</td>\n",
       "      <td>60.0</td>\n",
       "      <td>40.0</td>\n",
       "      <td>0</td>\n",
       "      <td>1</td>\n",
       "      <td>0</td>\n",
       "    </tr>\n",
       "    <tr>\n",
       "      <th>46602</th>\n",
       "      <td>0</td>\n",
       "      <td>10</td>\n",
       "      <td>121.0</td>\n",
       "      <td>40.0</td>\n",
       "      <td>0</td>\n",
       "      <td>1</td>\n",
       "      <td>0</td>\n",
       "    </tr>\n",
       "    <tr>\n",
       "      <th>46603</th>\n",
       "      <td>0</td>\n",
       "      <td>2</td>\n",
       "      <td>60.0</td>\n",
       "      <td>50.0</td>\n",
       "      <td>0</td>\n",
       "      <td>0</td>\n",
       "      <td>1</td>\n",
       "    </tr>\n",
       "    <tr>\n",
       "      <th>46607</th>\n",
       "      <td>0</td>\n",
       "      <td>2</td>\n",
       "      <td>181.0</td>\n",
       "      <td>40.0</td>\n",
       "      <td>0</td>\n",
       "      <td>0</td>\n",
       "      <td>1</td>\n",
       "    </tr>\n",
       "  </tbody>\n",
       "</table>\n",
       "<p>14875 rows × 7 columns</p>\n",
       "</div>"
      ],
      "text/plain": [
       "       status  lost_reason  budget  lease  room_type_Ensuite  \\\n",
       "2           0            6   121.0   40.0                  1   \n",
       "7           0           10   181.0   51.0                  0   \n",
       "11          0            6   121.0   40.0                  1   \n",
       "12          0           10   121.0   40.0                  0   \n",
       "13          0            6   181.0   50.0                  0   \n",
       "...       ...          ...     ...    ...                ...   \n",
       "46597       0            2   121.0   40.0                  1   \n",
       "46598       0            5    60.0   40.0                  0   \n",
       "46602       0           10   121.0   40.0                  0   \n",
       "46603       0            2    60.0   50.0                  0   \n",
       "46607       0            2   181.0   40.0                  0   \n",
       "\n",
       "       room_type_Entire Place  room_type_Studio  \n",
       "2                           0                 0  \n",
       "7                           1                 0  \n",
       "11                          0                 0  \n",
       "12                          1                 0  \n",
       "13                          1                 0  \n",
       "...                       ...               ...  \n",
       "46597                       0                 0  \n",
       "46598                       1                 0  \n",
       "46602                       1                 0  \n",
       "46603                       0                 1  \n",
       "46607                       0                 1  \n",
       "\n",
       "[14875 rows x 7 columns]"
      ]
     },
     "execution_count": 43,
     "metadata": {},
     "output_type": "execute_result"
    }
   ],
   "source": [
    "df_clean=df2\n",
    "df_clean"
   ]
  },
  {
   "cell_type": "markdown",
   "id": "9a8b2d28",
   "metadata": {},
   "source": [
    "## Let's Save The `df_clean`  file:"
   ]
  },
  {
   "cell_type": "code",
   "execution_count": 71,
   "id": "4b960dd8",
   "metadata": {},
   "outputs": [],
   "source": [
    "df_clean.to_csv('lead_scoring_clean.csv', index=False)"
   ]
  },
  {
   "cell_type": "markdown",
   "id": "72f6c4b7",
   "metadata": {},
   "source": [
    "### Let's see the `pairplot`:"
   ]
  },
  {
   "cell_type": "code",
   "execution_count": 44,
   "id": "150293b5",
   "metadata": {},
   "outputs": [
    {
     "data": {
      "text/plain": [
       "<seaborn.axisgrid.PairGrid at 0x1909ed82b80>"
      ]
     },
     "execution_count": 44,
     "metadata": {},
     "output_type": "execute_result"
    },
    {
     "data": {
      "image/png": "[encoded data removed]",
      "text/plain": [
       "<Figure size 1260x1260 with 56 Axes>"
      ]
     },
     "metadata": {
      "needs_background": "light"
     },
     "output_type": "display_data"
    }
   ],
   "source": [
    "sns.pairplot(df_clean)"
   ]
  },
  {
   "cell_type": "markdown",
   "id": "f1ae3b34",
   "metadata": {},
   "source": [
    "### Let's see the `Correlation Matrix`:"
   ]
  },
  {
   "cell_type": "code",
   "execution_count": 45,
   "id": "c760dba3",
   "metadata": {},
   "outputs": [
    {
     "data": {
      "image/png": "[encoded data removed]",
      "text/plain": [
       "<Figure size 936x432 with 2 Axes>"
      ]
     },
     "metadata": {
      "needs_background": "light"
     },
     "output_type": "display_data"
    }
   ],
   "source": [
    "# Let's see the corelation matrix:\n",
    "plt.figure(figsize=(13,6))\n",
    "sns.heatmap(df_clean.corr(),annot=True);"
   ]
  },
  {
   "cell_type": "markdown",
   "id": "be8b695f",
   "metadata": {},
   "source": [
    "## Step 8: Splitting The Dataset\n"
   ]
  },
  {
   "cell_type": "code",
   "execution_count": 46,
   "id": "3ea33d20",
   "metadata": {},
   "outputs": [
    {
     "name": "stdout",
     "output_type": "stream",
     "text": [
      "Shape of X: (14875, 6)\n",
      "Shape of y: (14875,)\n"
     ]
    }
   ],
   "source": [
    "# Spliting the dataset into Target(y) and Features(X) variable\n",
    "X=df_clean.drop(columns=['status'],axis=1)\n",
    "y=df_clean['status']\n",
    "\n",
    "print('Shape of X:',X.shape)\n",
    "print('Shape of y:',y.shape)"
   ]
  },
  {
   "cell_type": "code",
   "execution_count": 47,
   "id": "9d4ce5bd",
   "metadata": {},
   "outputs": [
    {
     "name": "stdout",
     "output_type": "stream",
     "text": [
      "Shape of X_train= (11156, 6)\n",
      "Shape of y_train= (11156,)\n",
      "Shape of X_test= (3719, 6)\n",
      "Shape of y_test= (3719,)\n"
     ]
    }
   ],
   "source": [
    "# Spliting into training and testing set:\n",
    "from sklearn.model_selection import train_test_split\n",
    "X_train, X_test, y_train, y_test=train_test_split(X,y,test_size=.25, random_state=5)\n",
    "\n",
    "print('Shape of X_train=',X_train.shape)\n",
    "print('Shape of y_train=',y_train.shape)\n",
    "print('Shape of X_test=',X_test.shape)\n",
    "print('Shape of y_test=',y_test.shape)"
   ]
  },
  {
   "cell_type": "markdown",
   "id": "21d5ca61",
   "metadata": {},
   "source": [
    "## Step 9:  Training and Testing For Best Fit Model"
   ]
  },
  {
   "cell_type": "markdown",
   "id": "d9e4339d",
   "metadata": {},
   "source": [
    "### 1. Logistic Regression Model:"
   ]
  },
  {
   "cell_type": "code",
   "execution_count": 48,
   "id": "af71c2bc",
   "metadata": {},
   "outputs": [
    {
     "data": {
      "text/plain": [
       "0    13634\n",
       "1     1241\n",
       "Name: status, dtype: int64"
      ]
     },
     "execution_count": 48,
     "metadata": {},
     "output_type": "execute_result"
    }
   ],
   "source": [
    "df_clean.status.value_counts()"
   ]
  },
  {
   "cell_type": "code",
   "execution_count": 49,
   "id": "3e944dae",
   "metadata": {},
   "outputs": [
    {
     "name": "stdout",
     "output_type": "stream",
     "text": [
      "Accuracy: 0.9028571428571428\n",
      "Confusion Matrix:\n",
      " [[2686   21]\n",
      " [ 268    0]]\n"
     ]
    },
    {
     "name": "stderr",
     "output_type": "stream",
     "text": [
      "C:\\Users\\HP\\anaconda3\\lib\\site-packages\\sklearn\\linear_model\\_logistic.py:814: ConvergenceWarning: lbfgs failed to converge (status=1):\n",
      "STOP: TOTAL NO. of ITERATIONS REACHED LIMIT.\n",
      "\n",
      "Increase the number of iterations (max_iter) or scale the data as shown in:\n",
      "    https://scikit-learn.org/stable/modules/preprocessing.html\n",
      "Please also refer to the documentation for alternative solver options:\n",
      "    https://scikit-learn.org/stable/modules/linear_model.html#logistic-regression\n",
      "  n_iter_i = _check_optimize_result(\n"
     ]
    }
   ],
   "source": [
    "from sklearn.linear_model import LogisticRegression\n",
    "from sklearn.metrics import accuracy_score, confusion_matrix\n",
    "from sklearn.model_selection import train_test_split\n",
    "\n",
    "# Split the dataset into features and target\n",
    "X = df2.drop(columns=['status'], axis=1)\n",
    "y = df2['status']\n",
    "\n",
    "# Split the dataset into train and test sets\n",
    "X_train, X_test, y_train, y_test = train_test_split(X, y, test_size=0.2, random_state=42)\n",
    "\n",
    "# Train the logistic regression model\n",
    "clf = LogisticRegression()\n",
    "clf.fit(X_train, y_train)\n",
    "\n",
    "# Predict the target variable for the test set\n",
    "y_pred = clf.predict(X_test)\n",
    "\n",
    "# Evaluate the model using accuracy score and confusion matrix\n",
    "accuracy = accuracy_score(y_test, y_pred)\n",
    "cm = confusion_matrix(y_test, y_pred)\n",
    "\n",
    "print(\"Accuracy:\", accuracy)\n",
    "print(\"Confusion Matrix:\\n\", cm)"
   ]
  },
  {
   "cell_type": "code",
   "execution_count": 50,
   "id": "b0810839",
   "metadata": {},
   "outputs": [
    {
     "data": {
      "text/html": [
       "<div>\n",
       "<style scoped>\n",
       "    .dataframe tbody tr th:only-of-type {\n",
       "        vertical-align: middle;\n",
       "    }\n",
       "\n",
       "    .dataframe tbody tr th {\n",
       "        vertical-align: top;\n",
       "    }\n",
       "\n",
       "    .dataframe thead th {\n",
       "        text-align: right;\n",
       "    }\n",
       "</style>\n",
       "<table border=\"1\" class=\"dataframe\">\n",
       "  <thead>\n",
       "    <tr style=\"text-align: right;\">\n",
       "      <th></th>\n",
       "      <th>lost_reason</th>\n",
       "      <th>budget</th>\n",
       "      <th>lease</th>\n",
       "      <th>room_type_Ensuite</th>\n",
       "      <th>room_type_Entire Place</th>\n",
       "      <th>room_type_Studio</th>\n",
       "    </tr>\n",
       "  </thead>\n",
       "  <tbody>\n",
       "    <tr>\n",
       "      <th>39690</th>\n",
       "      <td>7</td>\n",
       "      <td>181.0</td>\n",
       "      <td>50.0</td>\n",
       "      <td>1</td>\n",
       "      <td>0</td>\n",
       "      <td>0</td>\n",
       "    </tr>\n",
       "    <tr>\n",
       "      <th>12283</th>\n",
       "      <td>6</td>\n",
       "      <td>181.0</td>\n",
       "      <td>50.0</td>\n",
       "      <td>0</td>\n",
       "      <td>1</td>\n",
       "      <td>0</td>\n",
       "    </tr>\n",
       "    <tr>\n",
       "      <th>20883</th>\n",
       "      <td>6</td>\n",
       "      <td>121.0</td>\n",
       "      <td>40.0</td>\n",
       "      <td>0</td>\n",
       "      <td>1</td>\n",
       "      <td>0</td>\n",
       "    </tr>\n",
       "    <tr>\n",
       "      <th>45551</th>\n",
       "      <td>3</td>\n",
       "      <td>60.0</td>\n",
       "      <td>50.0</td>\n",
       "      <td>1</td>\n",
       "      <td>0</td>\n",
       "      <td>0</td>\n",
       "    </tr>\n",
       "    <tr>\n",
       "      <th>43488</th>\n",
       "      <td>5</td>\n",
       "      <td>121.0</td>\n",
       "      <td>40.0</td>\n",
       "      <td>0</td>\n",
       "      <td>0</td>\n",
       "      <td>1</td>\n",
       "    </tr>\n",
       "    <tr>\n",
       "      <th>40750</th>\n",
       "      <td>9</td>\n",
       "      <td>60.0</td>\n",
       "      <td>40.0</td>\n",
       "      <td>0</td>\n",
       "      <td>0</td>\n",
       "      <td>1</td>\n",
       "    </tr>\n",
       "    <tr>\n",
       "      <th>18897</th>\n",
       "      <td>3</td>\n",
       "      <td>60.0</td>\n",
       "      <td>40.0</td>\n",
       "      <td>1</td>\n",
       "      <td>0</td>\n",
       "      <td>0</td>\n",
       "    </tr>\n",
       "    <tr>\n",
       "      <th>14874</th>\n",
       "      <td>5</td>\n",
       "      <td>121.0</td>\n",
       "      <td>50.0</td>\n",
       "      <td>1</td>\n",
       "      <td>0</td>\n",
       "      <td>0</td>\n",
       "    </tr>\n",
       "    <tr>\n",
       "      <th>46091</th>\n",
       "      <td>4</td>\n",
       "      <td>60.0</td>\n",
       "      <td>50.0</td>\n",
       "      <td>1</td>\n",
       "      <td>0</td>\n",
       "      <td>0</td>\n",
       "    </tr>\n",
       "    <tr>\n",
       "      <th>3642</th>\n",
       "      <td>7</td>\n",
       "      <td>121.0</td>\n",
       "      <td>40.0</td>\n",
       "      <td>1</td>\n",
       "      <td>0</td>\n",
       "      <td>0</td>\n",
       "    </tr>\n",
       "  </tbody>\n",
       "</table>\n",
       "</div>"
      ],
      "text/plain": [
       "       lost_reason  budget  lease  room_type_Ensuite  room_type_Entire Place  \\\n",
       "39690            7   181.0   50.0                  1                       0   \n",
       "12283            6   181.0   50.0                  0                       1   \n",
       "20883            6   121.0   40.0                  0                       1   \n",
       "45551            3    60.0   50.0                  1                       0   \n",
       "43488            5   121.0   40.0                  0                       0   \n",
       "40750            9    60.0   40.0                  0                       0   \n",
       "18897            3    60.0   40.0                  1                       0   \n",
       "14874            5   121.0   50.0                  1                       0   \n",
       "46091            4    60.0   50.0                  1                       0   \n",
       "3642             7   121.0   40.0                  1                       0   \n",
       "\n",
       "       room_type_Studio  \n",
       "39690                 0  \n",
       "12283                 0  \n",
       "20883                 0  \n",
       "45551                 0  \n",
       "43488                 1  \n",
       "40750                 1  \n",
       "18897                 0  \n",
       "14874                 0  \n",
       "46091                 0  \n",
       "3642                  0  "
      ]
     },
     "execution_count": 50,
     "metadata": {},
     "output_type": "execute_result"
    }
   ],
   "source": [
    "X_test.head(10)"
   ]
  },
  {
   "cell_type": "code",
   "execution_count": 51,
   "id": "c158ed8c",
   "metadata": {},
   "outputs": [
    {
     "data": {
      "text/plain": [
       "39690    1\n",
       "12283    0\n",
       "20883    0\n",
       "45551    0\n",
       "43488    0\n",
       "40750    0\n",
       "18897    0\n",
       "14874    0\n",
       "46091    0\n",
       "3642     1\n",
       "Name: status, dtype: int32"
      ]
     },
     "execution_count": 51,
     "metadata": {},
     "output_type": "execute_result"
    }
   ],
   "source": [
    "y_test.head(10)"
   ]
  },
  {
   "cell_type": "code",
   "execution_count": 52,
   "id": "15720d84",
   "metadata": {},
   "outputs": [
    {
     "data": {
      "text/plain": [
       "array([0, 0, 0, 0, 0, 0, 0, 0, 0, 0])"
      ]
     },
     "execution_count": 52,
     "metadata": {},
     "output_type": "execute_result"
    }
   ],
   "source": [
    "y_pred_head = clf.predict(X_test.head(10))\n",
    "y_pred_head"
   ]
  },
  {
   "cell_type": "markdown",
   "id": "8e281edf",
   "metadata": {},
   "source": [
    "### 2.Gaussian Naive Bayes"
   ]
  },
  {
   "cell_type": "code",
   "execution_count": 53,
   "id": "152a66e7",
   "metadata": {},
   "outputs": [],
   "source": [
    "from sklearn.naive_bayes import GaussianNB\n",
    "from sklearn.metrics import accuracy_score, confusion_matrix"
   ]
  },
  {
   "cell_type": "code",
   "execution_count": 54,
   "id": "a5091919",
   "metadata": {},
   "outputs": [
    {
     "data": {
      "text/plain": [
       "GaussianNB()"
      ]
     },
     "execution_count": 54,
     "metadata": {},
     "output_type": "execute_result"
    }
   ],
   "source": [
    "classifier_g = GaussianNB()\n",
    "classifier_g.fit(X_train,y_train)"
   ]
  },
  {
   "cell_type": "code",
   "execution_count": 55,
   "id": "d2da294b",
   "metadata": {},
   "outputs": [
    {
     "data": {
      "text/plain": [
       "1.0"
      ]
     },
     "execution_count": 55,
     "metadata": {},
     "output_type": "execute_result"
    }
   ],
   "source": [
    "classifier_g.score(X_test, y_test)"
   ]
  },
  {
   "cell_type": "code",
   "execution_count": 56,
   "id": "c2f06b1b",
   "metadata": {},
   "outputs": [
    {
     "data": {
      "text/plain": [
       "39690    1\n",
       "12283    0\n",
       "20883    0\n",
       "45551    0\n",
       "43488    0\n",
       "40750    0\n",
       "18897    0\n",
       "14874    0\n",
       "46091    0\n",
       "3642     1\n",
       "11192    0\n",
       "28429    0\n",
       "268      0\n",
       "1698     0\n",
       "36049    0\n",
       "4128     1\n",
       "29373    1\n",
       "19355    0\n",
       "40004    0\n",
       "5236     0\n",
       "Name: status, dtype: int32"
      ]
     },
     "execution_count": 56,
     "metadata": {},
     "output_type": "execute_result"
    }
   ],
   "source": [
    "y_test_g_head=y_test.head(20)\n",
    "y_test_g_head"
   ]
  },
  {
   "cell_type": "code",
   "execution_count": 57,
   "id": "8eb5e0f0",
   "metadata": {},
   "outputs": [
    {
     "data": {
      "text/plain": [
       "array([1, 0, 0, 0, 0, 0, 0, 0, 0, 1, 0, 0, 0, 0, 0, 1, 1, 0, 0, 0])"
      ]
     },
     "execution_count": 57,
     "metadata": {},
     "output_type": "execute_result"
    }
   ],
   "source": [
    "y_pred_g_head = classifier_g.predict(X_test.head(20))\n",
    "y_pred_g_head"
   ]
  },
  {
   "cell_type": "markdown",
   "id": "ac8668da",
   "metadata": {},
   "source": [
    "###  Comparing The Predicted values with actual values:"
   ]
  },
  {
   "cell_type": "code",
   "execution_count": 58,
   "id": "429d4e30",
   "metadata": {},
   "outputs": [
    {
     "name": "stderr",
     "output_type": "stream",
     "text": [
      "C:\\Users\\HP\\anaconda3\\lib\\site-packages\\seaborn\\_decorators.py:36: FutureWarning: Pass the following variables as keyword args: x, y. From version 0.12, the only valid positional argument will be `data`, and passing other arguments without an explicit keyword will result in an error or misinterpretation.\n",
      "  warnings.warn(\n"
     ]
    },
    {
     "data": {
      "image/png": "[encoded data removed]",
      "text/plain": [
       "<Figure size 432x288 with 1 Axes>"
      ]
     },
     "metadata": {
      "needs_background": "light"
     },
     "output_type": "display_data"
    }
   ],
   "source": [
    "# Let's plot a scatter plot to visulize the predicted and actual value\n",
    "sns.scatterplot(y_test_g_head,y_pred_g_head)\n",
    "plt.show()"
   ]
  },
  {
   "cell_type": "markdown",
   "id": "78fda8e3",
   "metadata": {},
   "source": [
    "### Conclusion:\n",
    "The accuracy of this model is 100% which is overfitting."
   ]
  },
  {
   "cell_type": "markdown",
   "id": "0ec8bd19",
   "metadata": {},
   "source": [
    "### 3. Multinomial Naive Bayes\n"
   ]
  },
  {
   "cell_type": "code",
   "execution_count": 59,
   "id": "5426fb6b",
   "metadata": {},
   "outputs": [],
   "source": [
    "from sklearn.naive_bayes import MultinomialNB"
   ]
  },
  {
   "cell_type": "code",
   "execution_count": 60,
   "id": "2a7ecaa7",
   "metadata": {},
   "outputs": [
    {
     "data": {
      "text/plain": [
       "MultinomialNB()"
      ]
     },
     "execution_count": 60,
     "metadata": {},
     "output_type": "execute_result"
    }
   ],
   "source": [
    "# let's train with Multinomial Naive Bayes Classifier Model\n",
    "classifier_m=MultinomialNB()\n",
    "classifier_m.fit(X_train,y_train)"
   ]
  },
  {
   "cell_type": "code",
   "execution_count": 61,
   "id": "89c74ee0",
   "metadata": {},
   "outputs": [
    {
     "data": {
      "text/plain": [
       "0.9099159663865546"
      ]
     },
     "execution_count": 61,
     "metadata": {},
     "output_type": "execute_result"
    }
   ],
   "source": [
    "# Test our Multinomial Naive Bayes Model\n",
    "classifier_m.score(X_test,y_test)"
   ]
  },
  {
   "cell_type": "markdown",
   "id": "78411965",
   "metadata": {},
   "source": [
    "### Conclusion:\n",
    "The accuracy of the Multinomial Naive Bayes Model is 90.65% which is a good one but  let's try some other models."
   ]
  },
  {
   "cell_type": "markdown",
   "id": "db2092cb",
   "metadata": {},
   "source": [
    "### 4. Bernoulli Naive Bayes Classifier Model"
   ]
  },
  {
   "cell_type": "code",
   "execution_count": 62,
   "id": "739b8d04",
   "metadata": {},
   "outputs": [],
   "source": [
    "from sklearn.naive_bayes import BernoulliNB"
   ]
  },
  {
   "cell_type": "code",
   "execution_count": 63,
   "id": "3abe8451",
   "metadata": {},
   "outputs": [
    {
     "data": {
      "text/plain": [
       "BernoulliNB()"
      ]
     },
     "execution_count": 63,
     "metadata": {},
     "output_type": "execute_result"
    }
   ],
   "source": [
    "# Let's train our model\n",
    "classifier_b=BernoulliNB()\n",
    "classifier_b.fit(X_train, y_train)"
   ]
  },
  {
   "cell_type": "code",
   "execution_count": 64,
   "id": "e8e5a18b",
   "metadata": {},
   "outputs": [
    {
     "data": {
      "text/plain": [
       "0.9099159663865546"
      ]
     },
     "execution_count": 64,
     "metadata": {},
     "output_type": "execute_result"
    }
   ],
   "source": [
    "# Let's test our model\n",
    "classifier_b.score(X_test,y_test)"
   ]
  },
  {
   "cell_type": "markdown",
   "id": "96ef0e13",
   "metadata": {},
   "source": [
    "### Conclusion:\n",
    "The accuracy of the Bernoulli Naive Bayes Classifier is 90.99% which is similar to Multinomial Naive Bayes Classifier Models."
   ]
  },
  {
   "cell_type": "code",
   "execution_count": 65,
   "id": "8d515d29",
   "metadata": {},
   "outputs": [
    {
     "name": "stdout",
     "output_type": "stream",
     "text": [
      "Accuracy: 1.0\n",
      "Confusion Matrix:\n",
      " [[3428    0]\n",
      " [   0  291]]\n"
     ]
    }
   ],
   "source": [
    "from sklearn.tree import DecisionTreeClassifier\n",
    "from sklearn.model_selection import train_test_split\n",
    "from sklearn.metrics import accuracy_score\n",
    "\n",
    "# Split the data into training and testing sets\n",
    "X_train, X_test, y_train, y_test = train_test_split(df_clean.drop('status', axis=1), df_clean['status'], test_size=0.25, random_state=45)\n",
    "\n",
    "# Create the decision tree classifier\n",
    "dtc = DecisionTreeClassifier()\n",
    "\n",
    "# Train the model on the training data\n",
    "dtc.fit(X_train, y_train)\n",
    "\n",
    "# Make predictions on the testing data\n",
    "y_dtc_pred = dtc.predict(X_test)\n",
    "\n",
    "\n",
    "# Evaluate the model using accuracy score and confusion matrix\n",
    "dtc_accuracy = accuracy_score(y_test, y_dtc_pred)\n",
    "dtc_cm = confusion_matrix(y_test, y_dtc_pred)\n",
    "\n",
    "print(\"Accuracy:\", dtc_accuracy)\n",
    "print(\"Confusion Matrix:\\n\", dtc_cm)\n"
   ]
  },
  {
   "cell_type": "markdown",
   "id": "db45fb37",
   "metadata": {},
   "source": [
    "### Conclusion:\n",
    "* The accuracy of the Decision Tree Classifier is 100% which is similar to GB Naive Bayes Classifier Models.\n",
    "* But the Confusion Matrix looks impressive.\n",
    "* So, I'll go with this model and try to evaluate further."
   ]
  },
  {
   "cell_type": "markdown",
   "id": "db54db15",
   "metadata": {},
   "source": [
    "## Step 10: Using Evaluation Metrices on the choosen model"
   ]
  },
  {
   "cell_type": "markdown",
   "id": "dca7c36a",
   "metadata": {},
   "source": [
    "### Let's find the `F-Beta` for the Decision Tree Model:"
   ]
  },
  {
   "cell_type": "code",
   "execution_count": 66,
   "id": "6f6389a4",
   "metadata": {},
   "outputs": [
    {
     "name": "stdout",
     "output_type": "stream",
     "text": [
      "F-beta score for Decision Tree Classifier model:  1.0\n"
     ]
    }
   ],
   "source": [
    "# Let's import the library\n",
    "from sklearn.metrics import fbeta_score\n",
    "\n",
    "# Calculate F-beta score\n",
    "fbeta = fbeta_score(y_test, y_dtc_pred, beta=2)\n",
    "\n",
    "print(\"F-beta score for Decision Tree Classifier model: \", fbeta)"
   ]
  },
  {
   "cell_type": "markdown",
   "id": "81df4046",
   "metadata": {},
   "source": [
    "### Let's find the `precision_score` for the Decision Tree Model:"
   ]
  },
  {
   "cell_type": "code",
   "execution_count": 67,
   "id": "ca04d601",
   "metadata": {},
   "outputs": [
    {
     "name": "stdout",
     "output_type": "stream",
     "text": [
      "Precision score: 1.0\n"
     ]
    }
   ],
   "source": [
    "from sklearn.metrics import precision_score\n",
    "precision = precision_score(y_test, y_dtc_pred, average='binary')\n",
    "print(\"Precision score:\", precision)"
   ]
  },
  {
   "cell_type": "markdown",
   "id": "4ae9d7f4",
   "metadata": {},
   "source": [
    "### Let's find the `recall_score` for Decision Tree Model:"
   ]
  },
  {
   "cell_type": "code",
   "execution_count": 68,
   "id": "33a4b99a",
   "metadata": {},
   "outputs": [
    {
     "name": "stdout",
     "output_type": "stream",
     "text": [
      "Recall score: 1.0\n"
     ]
    }
   ],
   "source": [
    "from sklearn.metrics import recall_score\n",
    "recall = recall_score(y_test, y_dtc_pred)\n",
    "print(\"Recall score:\", recall)"
   ]
  },
  {
   "cell_type": "markdown",
   "id": "caf30981",
   "metadata": {},
   "source": [
    "### Let's find the `roc_auc_score` for the Decision Tree Model:"
   ]
  },
  {
   "cell_type": "code",
   "execution_count": 69,
   "id": "073d9a5d",
   "metadata": {},
   "outputs": [
    {
     "name": "stdout",
     "output_type": "stream",
     "text": [
      "ROC AUC score: 1.0\n"
     ]
    }
   ],
   "source": [
    "from sklearn.metrics import roc_auc_score\n",
    "\n",
    "# Assuming X_test and y_test are the test data\n",
    "y_pred_proba = dtc.predict_proba(X_test)[:, 1]\n",
    "roc_auc = roc_auc_score(y_test, y_pred_proba)\n",
    "\n",
    "print(\"ROC AUC score:\", roc_auc)"
   ]
  },
  {
   "cell_type": "markdown",
   "id": "2caa4057",
   "metadata": {},
   "source": [
    "## Step 11: Pickling The Model "
   ]
  },
  {
   "cell_type": "markdown",
   "id": "4e19a0f7",
   "metadata": {},
   "source": [
    "### Pickling?\n",
    "* Once we trained the model we need to save the model in a seprate file to use further or deploy in app.\n",
    "* So, we use the `pickle method` and save our model with `.pkl` extession.\n",
    "\n",
    "#### Syntax:\n",
    "\n",
    "```\n",
    "import pickle\n",
    "pickle.dump(model_name, open('file_name.pkl','folder_name'))\n",
    "```\n",
    "where,  \n",
    "pickle = Method   \n",
    "dump =  saving  \n",
    "model_name = lr/regression/LinearRegression  \n",
    "file_name = Name of the file in which you want to save your model (eg,)  \n",
    "folder_name= Name of the folder in which you want to save your file (eg, 'wb'= write bite (this store in the form of string) & this means if this file name is not exist in the current folder then create this one)"
   ]
  },
  {
   "cell_type": "code",
   "execution_count": 70,
   "id": "e84590df",
   "metadata": {},
   "outputs": [],
   "source": [
    "# Let's import the `pickle` library\n",
    "import pickle\n",
    "pickle.dump(dtc,open('lead_scoring_model.pkl','wb'))"
   ]
  },
  {
   "cell_type": "markdown",
   "id": "9b58b1d4",
   "metadata": {},
   "source": [
    "## Step 12: Let's Load & Test The Pickle Model"
   ]
  },
  {
   "cell_type": "code",
   "execution_count": 73,
   "id": "d93e900f",
   "metadata": {},
   "outputs": [],
   "source": [
    "# Loading the pickle file\n",
    "pickled_model=pickle.load(open('lead_scoring_model.pkl','rb'))"
   ]
  },
  {
   "cell_type": "code",
   "execution_count": 78,
   "id": "de016d94",
   "metadata": {},
   "outputs": [
    {
     "data": {
      "text/plain": [
       "array([0, 0, 0, 0, 0, 1, 0, 1, 0, 0, 0, 0, 0, 1, 0, 0, 0, 0, 0, 0])"
      ]
     },
     "execution_count": 78,
     "metadata": {},
     "output_type": "execute_result"
    }
   ],
   "source": [
    "# Prediction\n",
    "Predicted_Status=pickled_model.predict(X_test.head(20))\n",
    "Predicted_Status"
   ]
  },
  {
   "cell_type": "code",
   "execution_count": 81,
   "id": "fbb8ad63",
   "metadata": {},
   "outputs": [
    {
     "data": {
      "text/plain": [
       "13439    0\n",
       "12057    0\n",
       "9707     0\n",
       "10607    0\n",
       "32321    0\n",
       "12370    1\n",
       "12452    0\n",
       "2039     1\n",
       "40569    0\n",
       "30699    0\n",
       "26142    0\n",
       "12675    0\n",
       "17661    0\n",
       "26967    1\n",
       "40399    0\n",
       "32194    0\n",
       "19512    0\n",
       "25870    0\n",
       "7926     0\n",
       "5217     0\n",
       "Name: status, dtype: int32"
      ]
     },
     "execution_count": 81,
     "metadata": {},
     "output_type": "execute_result"
    }
   ],
   "source": [
    "y_test.head(20)"
   ]
  },
  {
   "cell_type": "markdown",
   "id": "742f564d",
   "metadata": {},
   "source": [
    "## Conclusion:\n",
    "* We can see our model is predicting to the actual values.\n",
    "* Here we have pickeled the model and tested. \n",
    "* Once we satified with the model then we can deploy this model using Flask on web platforms (like- AWS, Heroku, Render, etc.)\n",
    "* Note that the WIN dataset is comparatively lesser then the LOSS dataset.\n",
    "* So, we can collect more data to get the best result.\n",
    "* Also, we can collect some more information about the customers (like- location, Income, and platforms, etc.) to make our model more dynamic."
   ]
  },
  {
   "cell_type": "markdown",
   "id": "ae52300d",
   "metadata": {},
   "source": [
    "## About Me:\n",
    "**Name:** Hariom  \n",
    "**Email:** sonihariom555@gmail.com  \n",
    "**Contact No.:** 9956661272  \n",
    "**Portfolio:**[portfolio.sonihariom.me](https://portfolio.sonihariom.me/about)  "
   ]
  },
  {
   "cell_type": "markdown",
   "id": "c5266dbe",
   "metadata": {},
   "source": [
    "```\n",
    "Thank You!\n",
    "```"
   ]
  },
  {
   "cell_type": "code",
   "execution_count": null,
   "id": "51ed8f65",
   "metadata": {},
   "outputs": [],
   "source": []
  }
 ],
 "metadata": {
  "kernelspec": {
   "display_name": "Python 3 (ipykernel)",
   "language": "python",
   "name": "python3"
  },
  "language_info": {
   "codemirror_mode": {
    "name": "ipython",
    "version": 3
   },
   "file_extension": ".py",
   "mimetype": "text/x-python",
   "name": "python",
   "nbconvert_exporter": "python",
   "pygments_lexer": "ipython3",
   "version": "3.9.12"
  }
 },
 "nbformat": 4,
 "nbformat_minor": 5
}
